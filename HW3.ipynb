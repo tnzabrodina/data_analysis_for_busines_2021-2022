{
  "nbformat": 4,
  "nbformat_minor": 0,
  "metadata": {
    "colab": {
      "name": "HW3.ipynb",
      "provenance": [],
      "collapsed_sections": []
    },
    "kernelspec": {
      "name": "python3",
      "display_name": "Python 3"
    },
    "language_info": {
      "name": "python"
    }
  },
  "cells": [
    {
      "cell_type": "code",
      "source": [
        "import numpy as np\n",
        "import matplotlib.pyplot as plt\n",
        "import pandas as pd\n",
        "import warnings\n",
        "warnings.filterwarnings('ignore')"
      ],
      "metadata": {
        "id": "dceAw5giprR8"
      },
      "execution_count": 1,
      "outputs": []
    },
    {
      "cell_type": "markdown",
      "source": [
        "We will use simple economic model of Churn:\n",
        "\n",
        "You have historical data about customers who churn and not churn.\n",
        "You have a predictive model which for every customer predict whether he will churn or not churn next month.\n",
        "You know if you give a discount d% to a churn customer, he will not churn.\n",
        "Telecom company do not have any accompanying expenses on any discount strategy.\n",
        "Baseline (\"0 profit\") solution corresponds to the case where we do not apply any discount strategy and loose all churned clients\n",
        "\n",
        "(1) 1. What is the percentage of MonthlyCharges payed by customers who will Churn? Single integer number 0..100.\n"
      ],
      "metadata": {
        "id": "OtIb86OWpKaT"
      }
    },
    {
      "cell_type": "code",
      "execution_count": 2,
      "metadata": {
        "id": "aRvMmY4CpD4C"
      },
      "outputs": [],
      "source": [
        "df = pd.read_csv(\"train.csv\")"
      ]
    },
    {
      "cell_type": "code",
      "source": [
        "df.info()"
      ],
      "metadata": {
        "colab": {
          "base_uri": "https://localhost:8080/"
        },
        "id": "bbFNMg7tpkSa",
        "outputId": "8cadcaf5-f493-48f1-92fb-96b799e45f40"
      },
      "execution_count": 3,
      "outputs": [
        {
          "output_type": "stream",
          "name": "stdout",
          "text": [
            "<class 'pandas.core.frame.DataFrame'>\n",
            "RangeIndex: 4225 entries, 0 to 4224\n",
            "Data columns (total 21 columns):\n",
            " #   Column            Non-Null Count  Dtype  \n",
            "---  ------            --------------  -----  \n",
            " 0   customerID        4225 non-null   object \n",
            " 1   gender            4225 non-null   object \n",
            " 2   SeniorCitizen     4225 non-null   int64  \n",
            " 3   Partner           4225 non-null   object \n",
            " 4   Dependents        4225 non-null   object \n",
            " 5   tenure            4225 non-null   int64  \n",
            " 6   PhoneService      4225 non-null   object \n",
            " 7   MultipleLines     4225 non-null   object \n",
            " 8   InternetService   4225 non-null   object \n",
            " 9   OnlineSecurity    4225 non-null   object \n",
            " 10  OnlineBackup      4225 non-null   object \n",
            " 11  DeviceProtection  4225 non-null   object \n",
            " 12  TechSupport       4225 non-null   object \n",
            " 13  StreamingTV       4225 non-null   object \n",
            " 14  StreamingMovies   4225 non-null   object \n",
            " 15  Contract          4225 non-null   object \n",
            " 16  PaperlessBilling  4225 non-null   object \n",
            " 17  PaymentMethod     4225 non-null   object \n",
            " 18  MonthlyCharges    4225 non-null   float64\n",
            " 19  TotalCharges      4225 non-null   object \n",
            " 20  Churn             4225 non-null   object \n",
            "dtypes: float64(1), int64(2), object(18)\n",
            "memory usage: 693.3+ KB\n"
          ]
        }
      ]
    },
    {
      "cell_type": "code",
      "source": [
        "int(df[df['Churn']=='Yes']['MonthlyCharges'].sum()/df['MonthlyCharges'].sum()*100)"
      ],
      "metadata": {
        "colab": {
          "base_uri": "https://localhost:8080/"
        },
        "id": "ktpb7RZCq_st",
        "outputId": "5df8d262-b486-4b02-eeed-af13d2d60974"
      },
      "execution_count": 4,
      "outputs": [
        {
          "output_type": "execute_result",
          "data": {
            "text/plain": [
              "30"
            ]
          },
          "metadata": {},
          "execution_count": 4
        }
      ]
    },
    {
      "cell_type": "markdown",
      "source": [
        "(1) 2. Compute the profit of 20% discount (MonthlyCharges based) on a test set in scenario where you have \"perfect\", 100% accurate classification model. How much money company saves, assuming all customers accepts it and do not churn? Single float number, with 2 significant digits, e.g. 10.16 ."
      ],
      "metadata": {
        "id": "CMUF170lpUfV"
      }
    },
    {
      "cell_type": "code",
      "source": [
        "df_test = pd.read_csv(\"test.csv\")"
      ],
      "metadata": {
        "id": "_f46NlC8pYii"
      },
      "execution_count": 5,
      "outputs": []
    },
    {
      "cell_type": "code",
      "source": [
        "np.round(df_test[df_test['Churn']=='Yes']['MonthlyCharges'].sum()*0.8,2)"
      ],
      "metadata": {
        "colab": {
          "base_uri": "https://localhost:8080/"
        },
        "id": "zL_AZjp9pkyb",
        "outputId": "f7e39a4b-78c0-460e-aba7-adbecaf10781"
      },
      "execution_count": 6,
      "outputs": [
        {
          "output_type": "execute_result",
          "data": {
            "text/plain": [
              "45331.72"
            ]
          },
          "metadata": {},
          "execution_count": 6
        }
      ]
    },
    {
      "cell_type": "markdown",
      "source": [
        "(1) 3. Build any binary classification model, which output probabilities (e.g. Logistic Regression, Gradient Boosting, etc.) using training set. Make predictions on a test set. Upload a csv file with your predictions (it should contain 2 columns, customerID and PredictedYes). For all remaining computations you must use these predictions."
      ],
      "metadata": {
        "id": "QtkNpevgpWyK"
      }
    },
    {
      "cell_type": "code",
      "source": [
        "df.dtypes"
      ],
      "metadata": {
        "colab": {
          "base_uri": "https://localhost:8080/"
        },
        "id": "AizRCezLGwyZ",
        "outputId": "8d22e9aa-ed7e-4638-bb48-f452f0eff3de"
      },
      "execution_count": 7,
      "outputs": [
        {
          "output_type": "execute_result",
          "data": {
            "text/plain": [
              "customerID           object\n",
              "gender               object\n",
              "SeniorCitizen         int64\n",
              "Partner              object\n",
              "Dependents           object\n",
              "tenure                int64\n",
              "PhoneService         object\n",
              "MultipleLines        object\n",
              "InternetService      object\n",
              "OnlineSecurity       object\n",
              "OnlineBackup         object\n",
              "DeviceProtection     object\n",
              "TechSupport          object\n",
              "StreamingTV          object\n",
              "StreamingMovies      object\n",
              "Contract             object\n",
              "PaperlessBilling     object\n",
              "PaymentMethod        object\n",
              "MonthlyCharges      float64\n",
              "TotalCharges         object\n",
              "Churn                object\n",
              "dtype: object"
            ]
          },
          "metadata": {},
          "execution_count": 7
        }
      ]
    },
    {
      "cell_type": "code",
      "source": [
        "df[pd.to_numeric(df.TotalCharges, errors='coerce').isnull()]['TotalCharges'].index"
      ],
      "metadata": {
        "colab": {
          "base_uri": "https://localhost:8080/"
        },
        "id": "6RLzfY-ZJLuM",
        "outputId": "5aea8783-24c7-4b94-e772-d2e8694f84bb"
      },
      "execution_count": 8,
      "outputs": [
        {
          "output_type": "execute_result",
          "data": {
            "text/plain": [
              "Int64Index([690, 766, 1128, 1717, 1904, 1944, 3221], dtype='int64')"
            ]
          },
          "metadata": {},
          "execution_count": 8
        }
      ]
    },
    {
      "cell_type": "code",
      "source": [
        "arr_none = list(df[pd.to_numeric(df.TotalCharges, errors='coerce').isnull()]['TotalCharges'].index)\n",
        "for i in arr_none:\n",
        "    df.loc[i,'TotalCharges'] = str('0')"
      ],
      "metadata": {
        "id": "57Rv8y5EJ4kM"
      },
      "execution_count": 9,
      "outputs": []
    },
    {
      "cell_type": "code",
      "source": [
        "df[\"TotalCharges\"] = pd.to_numeric(df[\"TotalCharges\"], downcast=\"float\")"
      ],
      "metadata": {
        "id": "Dsg5733HGXCK"
      },
      "execution_count": 10,
      "outputs": []
    },
    {
      "cell_type": "code",
      "source": [
        "def onehot_and_bin(df_):\n",
        "    categorical_columns = [c for c in df_.columns if df_[c].dtype.name == 'object'][1:]\n",
        "    for i in categorical_columns:\n",
        "        if len(df_[i].unique())==2:\n",
        "            val_col = np.sort(df_[i].unique())\n",
        "            df_.loc[(df_[i] == val_col[0]), i] = 0 #No\n",
        "            df_.loc[(df_[i] == val_col[1]), i] = 1 #Yes\n",
        "            df_[i] = pd.to_numeric(df_[i])\n",
        "        elif len(df_[i].unique())>2:\n",
        "            df_ = pd.concat([df_,pd.get_dummies(df_[i],prefix=i)], axis=1).drop(i,axis=1)\n",
        "    return df_"
      ],
      "metadata": {
        "id": "xSHdUw5gD464"
      },
      "execution_count": 11,
      "outputs": []
    },
    {
      "cell_type": "code",
      "source": [
        "df = onehot_and_bin(df)"
      ],
      "metadata": {
        "id": "6SGCcFe61IBm"
      },
      "execution_count": 12,
      "outputs": []
    },
    {
      "cell_type": "code",
      "source": [
        "from sklearn.linear_model import LogisticRegression\n",
        "X_train = df.drop(['customerID','Churn'], axis=1)\n",
        "y_train = df['Churn']\n",
        "clf = LogisticRegression(random_state=0).fit(X_train, y_train)"
      ],
      "metadata": {
        "id": "QucB6fNRplgb"
      },
      "execution_count": 86,
      "outputs": []
    },
    {
      "cell_type": "code",
      "source": [
        "clf.score(X_train, y_train)"
      ],
      "metadata": {
        "colab": {
          "base_uri": "https://localhost:8080/"
        },
        "id": "rxmkxpNXCfvM",
        "outputId": "857a7c3d-4287-42c9-f038-425a19294e7e"
      },
      "execution_count": 87,
      "outputs": [
        {
          "output_type": "execute_result",
          "data": {
            "text/plain": [
              "0.8009467455621302"
            ]
          },
          "metadata": {},
          "execution_count": 87
        }
      ]
    },
    {
      "cell_type": "code",
      "source": [
        "arr_none = list(df_test[pd.to_numeric(df_test.TotalCharges, errors='coerce').isnull()]['TotalCharges'].index)\n",
        "for i in arr_none:\n",
        "    df_test.loc[i,'TotalCharges'] = str('0')\n",
        "df_test[\"TotalCharges\"] = pd.to_numeric(df_test[\"TotalCharges\"], downcast=\"float\")"
      ],
      "metadata": {
        "id": "CBYyIPLD2OOw"
      },
      "execution_count": 88,
      "outputs": []
    },
    {
      "cell_type": "code",
      "source": [
        "df_test = onehot_and_bin(df_test)"
      ],
      "metadata": {
        "id": "F-qh17pUCf3c"
      },
      "execution_count": 89,
      "outputs": []
    },
    {
      "cell_type": "code",
      "source": [
        "X_test = df_test.drop(['customerID','Churn'], axis=1)\n",
        "y_test = df_test['Churn']\n",
        "clf.predict(X_test)"
      ],
      "metadata": {
        "colab": {
          "base_uri": "https://localhost:8080/"
        },
        "id": "27xa1vc_pljw",
        "outputId": "ebdf9cf2-d475-49af-da55-296ea0f56e91"
      },
      "execution_count": 90,
      "outputs": [
        {
          "output_type": "execute_result",
          "data": {
            "text/plain": [
              "array([0, 0, 0, ..., 0, 0, 0])"
            ]
          },
          "metadata": {},
          "execution_count": 90
        }
      ]
    },
    {
      "cell_type": "code",
      "source": [
        "clf.predict_proba(X_test)"
      ],
      "metadata": {
        "colab": {
          "base_uri": "https://localhost:8080/"
        },
        "id": "WQvHEjtJ4W_c",
        "outputId": "90e8da2c-601a-4927-cdc5-2cf68204adaf"
      },
      "execution_count": 91,
      "outputs": [
        {
          "output_type": "execute_result",
          "data": {
            "text/plain": [
              "array([[0.94224653, 0.05775347],\n",
              "       [0.58908226, 0.41091774],\n",
              "       [0.80666312, 0.19333688],\n",
              "       ...,\n",
              "       [0.99338105, 0.00661895],\n",
              "       [0.70660036, 0.29339964],\n",
              "       [0.97557715, 0.02442285]])"
            ]
          },
          "metadata": {},
          "execution_count": 91
        }
      ]
    },
    {
      "cell_type": "code",
      "source": [
        "plt.hist(clf.predict_proba(X_test)[:, 1:],bins=100)\n",
        "plt.xlabel('probability of \"Yes\"')\n",
        "plt.ylabel('count')\n",
        "plt.show()"
      ],
      "metadata": {
        "colab": {
          "base_uri": "https://localhost:8080/",
          "height": 278
        },
        "id": "QzJTKZdm0jxI",
        "outputId": "e9dff624-d0fb-47bf-b5d1-dbe024ff97c8"
      },
      "execution_count": 92,
      "outputs": [
        {
          "output_type": "display_data",
          "data": {
            "text/plain": [
              "<Figure size 432x288 with 1 Axes>"
            ],
            "image/png": "[encoded data removed]"
          },
          "metadata": {
            "needs_background": "light"
          }
        }
      ]
    },
    {
      "cell_type": "code",
      "source": [
        "from sklearn.metrics import accuracy_score"
      ],
      "metadata": {
        "id": "-XSD3xE_5HMc"
      },
      "execution_count": 93,
      "outputs": []
    },
    {
      "cell_type": "code",
      "source": [
        "accuracy_score(clf.predict(X_test),y_test)"
      ],
      "metadata": {
        "colab": {
          "base_uri": "https://localhost:8080/"
        },
        "id": "psgaXCvU4XFL",
        "outputId": "11e78afc-5a9a-4ce0-bf32-dafa87b6e91d"
      },
      "execution_count": 94,
      "outputs": [
        {
          "output_type": "execute_result",
          "data": {
            "text/plain": [
              "0.808374733853797"
            ]
          },
          "metadata": {},
          "execution_count": 94
        }
      ]
    },
    {
      "cell_type": "code",
      "source": [
        "arr_prob = clf.predict_proba(X_test)[:, 1]"
      ],
      "metadata": {
        "id": "JrNdRHSH7Zr3"
      },
      "execution_count": 95,
      "outputs": []
    },
    {
      "cell_type": "code",
      "source": [
        "d = {'customerID': df_test['customerID'], 'PredictedYes': arr_prob}\n",
        "df_prob = pd.DataFrame(data=d)\n",
        "df_prob"
      ],
      "metadata": {
        "colab": {
          "base_uri": "https://localhost:8080/",
          "height": 411
        },
        "id": "ZfwQEqtd53FR",
        "outputId": "696bb2ce-c522-4fd3-9752-a97d5a0910ad"
      },
      "execution_count": 96,
      "outputs": [
        {
          "output_type": "execute_result",
          "data": {
            "text/plain": [
              "      customerID  PredictedYes\n",
              "0     8659-IOOPU      0.057753\n",
              "1     0887-HJGAR      0.410918\n",
              "2     1029-QFBEN      0.193337\n",
              "3     7579-OOPEC      0.350959\n",
              "4     8473-VUVJN      0.802467\n",
              "...          ...           ...\n",
              "2813  6476-EPYZR      0.094939\n",
              "2814  0336-PIKEI      0.008856\n",
              "2815  5201-CBWYG      0.006619\n",
              "2816  0678-RLHVP      0.293400\n",
              "2817  1293-HHSHJ      0.024423\n",
              "\n",
              "[2818 rows x 2 columns]"
            ],
            "text/html": [
              "\n",
              "  <div id=\"df-fecac294-da2c-46ed-abcc-91a19bb5459f\">\n",
              "    <div class=\"colab-df-container\">\n",
              "      <div>\n",
              "<style scoped>\n",
              "    .dataframe tbody tr th:only-of-type {\n",
              "        vertical-align: middle;\n",
              "    }\n",
              "\n",
              "    .dataframe tbody tr th {\n",
              "        vertical-align: top;\n",
              "    }\n",
              "\n",
              "    .dataframe thead th {\n",
              "        text-align: right;\n",
              "    }\n",
              "</style>\n",
              "<table border=\"1\" class=\"dataframe\">\n",
              "  <thead>\n",
              "    <tr style=\"text-align: right;\">\n",
              "      <th></th>\n",
              "      <th>customerID</th>\n",
              "      <th>PredictedYes</th>\n",
              "    </tr>\n",
              "  </thead>\n",
              "  <tbody>\n",
              "    <tr>\n",
              "      <th>0</th>\n",
              "      <td>8659-IOOPU</td>\n",
              "      <td>0.057753</td>\n",
              "    </tr>\n",
              "    <tr>\n",
              "      <th>1</th>\n",
              "      <td>0887-HJGAR</td>\n",
              "      <td>0.410918</td>\n",
              "    </tr>\n",
              "    <tr>\n",
              "      <th>2</th>\n",
              "      <td>1029-QFBEN</td>\n",
              "      <td>0.193337</td>\n",
              "    </tr>\n",
              "    <tr>\n",
              "      <th>3</th>\n",
              "      <td>7579-OOPEC</td>\n",
              "      <td>0.350959</td>\n",
              "    </tr>\n",
              "    <tr>\n",
              "      <th>4</th>\n",
              "      <td>8473-VUVJN</td>\n",
              "      <td>0.802467</td>\n",
              "    </tr>\n",
              "    <tr>\n",
              "      <th>...</th>\n",
              "      <td>...</td>\n",
              "      <td>...</td>\n",
              "    </tr>\n",
              "    <tr>\n",
              "      <th>2813</th>\n",
              "      <td>6476-EPYZR</td>\n",
              "      <td>0.094939</td>\n",
              "    </tr>\n",
              "    <tr>\n",
              "      <th>2814</th>\n",
              "      <td>0336-PIKEI</td>\n",
              "      <td>0.008856</td>\n",
              "    </tr>\n",
              "    <tr>\n",
              "      <th>2815</th>\n",
              "      <td>5201-CBWYG</td>\n",
              "      <td>0.006619</td>\n",
              "    </tr>\n",
              "    <tr>\n",
              "      <th>2816</th>\n",
              "      <td>0678-RLHVP</td>\n",
              "      <td>0.293400</td>\n",
              "    </tr>\n",
              "    <tr>\n",
              "      <th>2817</th>\n",
              "      <td>1293-HHSHJ</td>\n",
              "      <td>0.024423</td>\n",
              "    </tr>\n",
              "  </tbody>\n",
              "</table>\n",
              "<p>2818 rows × 2 columns</p>\n",
              "</div>\n",
              "      <button class=\"colab-df-convert\" onclick=\"convertToInteractive('df-fecac294-da2c-46ed-abcc-91a19bb5459f')\"\n",
              "              title=\"Convert this dataframe to an interactive table.\"\n",
              "              style=\"display:none;\">\n",
              "        \n",
              "  <svg xmlns=\"http://www.w3.org/2000/svg\" height=\"24px\"viewBox=\"0 0 24 24\"\n",
              "       width=\"24px\">\n",
              "    <path d=\"M0 0h24v24H0V0z\" fill=\"none\"/>\n",
              "    <path d=\"M18.56 5.44l.94 2.06.94-2.06 2.06-.94-2.06-.94-.94-2.06-.94 2.06-2.06.94zm-11 1L8.5 8.5l.94-2.06 2.06-.94-2.06-.94L8.5 2.5l-.94 2.06-2.06.94zm10 10l.94 2.06.94-2.06 2.06-.94-2.06-.94-.94-2.06-.94 2.06-2.06.94z\"/><path d=\"M17.41 7.96l-1.37-1.37c-.4-.4-.92-.59-1.43-.59-.52 0-1.04.2-1.43.59L10.3 9.45l-7.72 7.72c-.78.78-.78 2.05 0 2.83L4 21.41c.39.39.9.59 1.41.59.51 0 1.02-.2 1.41-.59l7.78-7.78 2.81-2.81c.8-.78.8-2.07 0-2.86zM5.41 20L4 18.59l7.72-7.72 1.47 1.35L5.41 20z\"/>\n",
              "  </svg>\n",
              "      </button>\n",
              "      \n",
              "  <style>\n",
              "    .colab-df-container {\n",
              "      display:flex;\n",
              "      flex-wrap:wrap;\n",
              "      gap: 12px;\n",
              "    }\n",
              "\n",
              "    .colab-df-convert {\n",
              "      background-color: #E8F0FE;\n",
              "      border: none;\n",
              "      border-radius: 50%;\n",
              "      cursor: pointer;\n",
              "      display: none;\n",
              "      fill: #1967D2;\n",
              "      height: 32px;\n",
              "      padding: 0 0 0 0;\n",
              "      width: 32px;\n",
              "    }\n",
              "\n",
              "    .colab-df-convert:hover {\n",
              "      background-color: #E2EBFA;\n",
              "      box-shadow: 0px 1px 2px rgba(60, 64, 67, 0.3), 0px 1px 3px 1px rgba(60, 64, 67, 0.15);\n",
              "      fill: #174EA6;\n",
              "    }\n",
              "\n",
              "    [theme=dark] .colab-df-convert {\n",
              "      background-color: #3B4455;\n",
              "      fill: #D2E3FC;\n",
              "    }\n",
              "\n",
              "    [theme=dark] .colab-df-convert:hover {\n",
              "      background-color: #434B5C;\n",
              "      box-shadow: 0px 1px 3px 1px rgba(0, 0, 0, 0.15);\n",
              "      filter: drop-shadow(0px 1px 2px rgba(0, 0, 0, 0.3));\n",
              "      fill: #FFFFFF;\n",
              "    }\n",
              "  </style>\n",
              "\n",
              "      <script>\n",
              "        const buttonEl =\n",
              "          document.querySelector('#df-fecac294-da2c-46ed-abcc-91a19bb5459f button.colab-df-convert');\n",
              "        buttonEl.style.display =\n",
              "          google.colab.kernel.accessAllowed ? 'block' : 'none';\n",
              "\n",
              "        async function convertToInteractive(key) {\n",
              "          const element = document.querySelector('#df-fecac294-da2c-46ed-abcc-91a19bb5459f');\n",
              "          const dataTable =\n",
              "            await google.colab.kernel.invokeFunction('convertToInteractive',\n",
              "                                                     [key], {});\n",
              "          if (!dataTable) return;\n",
              "\n",
              "          const docLinkHtml = 'Like what you see? Visit the ' +\n",
              "            '<a target=\"_blank\" href=https://colab.research.google.com/notebooks/data_table.ipynb>data table notebook</a>'\n",
              "            + ' to learn more about interactive tables.';\n",
              "          element.innerHTML = '';\n",
              "          dataTable['output_type'] = 'display_data';\n",
              "          await google.colab.output.renderOutput(dataTable, element);\n",
              "          const docLink = document.createElement('div');\n",
              "          docLink.innerHTML = docLinkHtml;\n",
              "          element.appendChild(docLink);\n",
              "        }\n",
              "      </script>\n",
              "    </div>\n",
              "  </div>\n",
              "  "
            ]
          },
          "metadata": {},
          "execution_count": 96
        }
      ]
    },
    {
      "cell_type": "code",
      "source": [
        "df_prob.to_csv('df_prob.csv',index=False)"
      ],
      "metadata": {
        "id": "HNgB7cW05lXc"
      },
      "execution_count": 97,
      "outputs": []
    },
    {
      "cell_type": "markdown",
      "source": [
        "(1) 4. What is ROC AUC of your model on a test set? Single integer number 0..100."
      ],
      "metadata": {
        "id": "CUXMNgBbpZBj"
      }
    },
    {
      "cell_type": "code",
      "source": [
        "from sklearn.metrics import roc_auc_score\n",
        "int(np.round(roc_auc_score(y_test, arr_prob)*100,0))"
      ],
      "metadata": {
        "colab": {
          "base_uri": "https://localhost:8080/"
        },
        "id": "o5LoRDDapauF",
        "outputId": "e8ec05a9-6718-4a05-ce8a-9cc3b380506d"
      },
      "execution_count": 25,
      "outputs": [
        {
          "output_type": "execute_result",
          "data": {
            "text/plain": [
              "85"
            ]
          },
          "metadata": {},
          "execution_count": 25
        }
      ]
    },
    {
      "cell_type": "markdown",
      "source": [
        "(1) 5. What are TP, FP, TN, FN for probability threshold 0.5 (4 integer numbers divided by a comma, e.g. 10,20,15,5). You can use example from <> spreadsheet to compute the confusion matrix."
      ],
      "metadata": {
        "id": "S1kYI1Y6pbP9"
      }
    },
    {
      "cell_type": "code",
      "source": [
        "TP = 0\n",
        "FP = 0 \n",
        "TN = 0\n",
        "FN = 0\n",
        "threshold = 0.5\n",
        "for i in range(len(y_test)):\n",
        "    if (y_test[i] == 1) and (arr_prob[i] >= threshold):\n",
        "        TP+=1\n",
        "    elif (y_test[i] == 0) and (arr_prob[i] >= threshold):\n",
        "        FP+=1\n",
        "    elif (y_test[i] == 0) and (arr_prob[i] < threshold):\n",
        "        TN+=1\n",
        "    elif (y_test[i] == 1) and (arr_prob[i] < threshold):\n",
        "        FN+=1"
      ],
      "metadata": {
        "id": "-wFaCiW_pc07"
      },
      "execution_count": 40,
      "outputs": []
    },
    {
      "cell_type": "code",
      "source": [
        "print('TP: ', TP, 'FN: ', FN)\n",
        "print('FP: ', FP, 'TN: ', TN)"
      ],
      "metadata": {
        "colab": {
          "base_uri": "https://localhost:8080/"
        },
        "id": "K4cmikJrpm4j",
        "outputId": "12edd9c5-42f4-4991-acd1-a4faa00ad259"
      },
      "execution_count": 41,
      "outputs": [
        {
          "output_type": "stream",
          "name": "stdout",
          "text": [
            "TP:  410 FN:  349\n",
            "FP:  191 TN:  1868\n"
          ]
        }
      ]
    },
    {
      "cell_type": "markdown",
      "source": [
        "Compute the effectiveness of discount strategies for different scenarios\n",
        "\n",
        "(1) 6. Compute the profit of 20% discount (MonthlyCharges based), assuming you give it to all customers predicted as Churned (TP and FP). Single float number, with 2 significant digits, e.g. 10.16 ."
      ],
      "metadata": {
        "id": "xQ3utBsTpdS4"
      }
    },
    {
      "cell_type": "code",
      "source": [
        "np.round((df_test['MonthlyCharges'][(y_test == 0) & (arr_prob <  0.5)].sum() + \n",
        "          df_test['MonthlyCharges'][(y_test == 1) & (arr_prob >= 0.5)].sum() * 0.8 + \n",
        "          df_test['MonthlyCharges'][(y_test == 0) & (arr_prob >= 0.5)].sum() * 0.8), 2)"
      ],
      "metadata": {
        "colab": {
          "base_uri": "https://localhost:8080/"
        },
        "id": "6JO4x-s2dafF",
        "outputId": "876406f2-1e56-45ab-d448-38a90ab67b5e"
      },
      "execution_count": 42,
      "outputs": [
        {
          "output_type": "execute_result",
          "data": {
            "text/plain": [
              "149723.29"
            ]
          },
          "metadata": {},
          "execution_count": 42
        }
      ]
    },
    {
      "cell_type": "markdown",
      "source": [
        "(1) 7. What if we only give discount (20%) to top p% of customers (p% of customers with the highest probability to churn, predicted by our model). Find p, which maximizes the profit. Recall that p might not coincide with probability threshold outputed by your classifier (e.g. using threshold of 0.65 you end up with 50% of the customers). Single integer number 0..100."
      ],
      "metadata": {
        "id": "wlY0lAl8pfhA"
      }
    },
    {
      "cell_type": "code",
      "source": [
        "arr_p_and_profit = []\n",
        "arr_p = []\n",
        "for p in np.linspace(0,len(arr_prob)-1,100, dtype=int)[::-1]:\n",
        "\n",
        "    t = np.sort(arr_prob)[p]\n",
        "\n",
        "    arr_p_and_profit.append(np.round((df_test['MonthlyCharges'][(y_test == 0) & (arr_prob <  t)].sum() + \n",
        "                                      df_test['MonthlyCharges'][(y_test == 1) & (arr_prob >= t)].sum() * 0.8 + \n",
        "                                      df_test['MonthlyCharges'][(y_test == 0) & (arr_prob >= t)].sum() * 0.8), 2))\n",
        "    arr_p.append(t)"
      ],
      "metadata": {
        "id": "jCjlXseQpgz5"
      },
      "execution_count": 99,
      "outputs": []
    },
    {
      "cell_type": "code",
      "source": [
        "plt.plot(arr_p_and_profit)\n",
        "plt.grid()"
      ],
      "metadata": {
        "colab": {
          "base_uri": "https://localhost:8080/",
          "height": 264
        },
        "id": "BAj8LfSCjwo3",
        "outputId": "a87e756a-6eb9-4c83-bc51-dfd07e240d18"
      },
      "execution_count": 106,
      "outputs": [
        {
          "output_type": "display_data",
          "data": {
            "text/plain": [
              "<Figure size 432x288 with 1 Axes>"
            ],
            "image/png": "[encoded data removed]"
          },
          "metadata": {
            "needs_background": "light"
          }
        }
      ]
    },
    {
      "cell_type": "code",
      "source": [
        "print('optim % =',int(100*np.mean(arr_prob >= arr_p[np.argmax(arr_p_and_profit)])), ' with max profit',np.max(arr_p_and_profit))"
      ],
      "metadata": {
        "colab": {
          "base_uri": "https://localhost:8080/"
        },
        "id": "vJGnqi5QpooH",
        "outputId": "331d9684-e949-411f-f791-f927c15a0d6f"
      },
      "execution_count": 107,
      "outputs": [
        {
          "output_type": "stream",
          "name": "stdout",
          "text": [
            "optim % = 53  with max profit 156911.78\n"
          ]
        }
      ]
    },
    {
      "cell_type": "markdown",
      "source": [
        "(1) 8. Instead of 20% discount we now give constant 10$ discount. How your answer to the previous question changes? Single integer number 0..100."
      ],
      "metadata": {
        "id": "SeeG2y1OphOQ"
      }
    },
    {
      "cell_type": "code",
      "source": [
        "arr_p_and_profit = []\n",
        "arr_p = []\n",
        "for p in np.linspace(0,len(arr_prob)-1,100, dtype=int)[::-1]:\n",
        "\n",
        "    t = np.sort(arr_prob)[p]\n",
        "\n",
        "    arr_p_and_profit.append(np.round(df_test['MonthlyCharges'][(y_test == 0) & (arr_prob <  t)].sum() + \n",
        "                                      np.sum(df_test['MonthlyCharges'][(y_test == 1) & (arr_prob >= t)] - 10) + \n",
        "                                      np.sum(df_test['MonthlyCharges'][(y_test == 0) & (arr_prob >= t)] - 10), 2))\n",
        "    arr_p.append(t)"
      ],
      "metadata": {
        "id": "5hSUQMZ6piez"
      },
      "execution_count": 117,
      "outputs": []
    },
    {
      "cell_type": "code",
      "source": [
        "plt.plot(arr_p_and_profit)"
      ],
      "metadata": {
        "colab": {
          "base_uri": "https://localhost:8080/",
          "height": 281
        },
        "id": "Crr0katdmhb7",
        "outputId": "111a2baf-28c9-4cb8-aa81-4c388e714b64"
      },
      "execution_count": 119,
      "outputs": [
        {
          "output_type": "execute_result",
          "data": {
            "text/plain": [
              "[<matplotlib.lines.Line2D at 0x7fcf25e8e1d0>]"
            ]
          },
          "metadata": {},
          "execution_count": 119
        },
        {
          "output_type": "display_data",
          "data": {
            "text/plain": [
              "<Figure size 432x288 with 1 Axes>"
            ],
            "image/png": "[encoded data removed]"
          },
          "metadata": {
            "needs_background": "light"
          }
        }
      ]
    },
    {
      "cell_type": "code",
      "source": [
        "print('optim % =',int(100*np.mean(arr_prob >= arr_p[np.argmax(arr_p_and_profit)])), ' with max profit',np.max(arr_p_and_profit))"
      ],
      "metadata": {
        "colab": {
          "base_uri": "https://localhost:8080/"
        },
        "id": "d3s2htlgjBms",
        "outputId": "b7347094-e2ed-4345-8bb7-83fc11ddfd56"
      },
      "execution_count": 120,
      "outputs": [
        {
          "output_type": "stream",
          "name": "stdout",
          "text": [
            "optim % = 53  with max profit 163956.8\n"
          ]
        }
      ]
    },
    {
      "cell_type": "markdown",
      "source": [
        "(2) 9. Propose a more viable economic model of Churn (e.g. how additional spendings on advertisement., new customers' aquisition, regular discount companies affect your ML pipeline; how to improve our simple economic model to make it more realistic?). 3000 english symbols. Any submission over 3000 symbols will result in 0 points. Your improvements must incorporate the scenario of usage Churn/Uplift ML models."
      ],
      "metadata": {
        "id": "wzArKyvbpi7d"
      }
    },
    {
      "cell_type": "code",
      "source": [
        ""
      ],
      "metadata": {
        "id": "-p2wqEMupp0x"
      },
      "execution_count": null,
      "outputs": []
    }
  ]
}