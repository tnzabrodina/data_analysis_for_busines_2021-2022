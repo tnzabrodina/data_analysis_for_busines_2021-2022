{
  "cells": [
    {
      "cell_type": "code",
      "execution_count": 2,
      "id": "0116854a",
      "metadata": {
        "id": "0116854a"
      },
      "outputs": [],
      "source": [
        "import pandas as pd\n",
        "import numpy as np\n",
        "import matplotlib.pyplot as plt"
      ]
    },
    {
      "cell_type": "code",
      "execution_count": 5,
      "id": "5dc7d516",
      "metadata": {
        "id": "5dc7d516"
      },
      "outputs": [],
      "source": [
        "df = pd.read_csv('marketing_campaign.csv')"
      ]
    },
    {
      "cell_type": "code",
      "execution_count": 6,
      "id": "94553d45",
      "metadata": {
        "id": "94553d45",
        "outputId": "db28c117-1db1-4c01-8ae8-552faa00b95d",
        "colab": {
          "base_uri": "https://localhost:8080/",
          "height": 411
        }
      },
      "outputs": [
        {
          "output_type": "execute_result",
          "data": {
            "text/plain": [
              "     Unnamed: 0 MarketSize  LocationID  Promotion  week  SalesInThousands  \\\n",
              "0             0     Medium           1          3     1            40.476   \n",
              "1             1     Medium           1          3     2            42.804   \n",
              "2             2     Medium           1          3     3            34.836   \n",
              "3             3     Medium           1          3     4            47.100   \n",
              "4             4     Medium           2          2     1            27.810   \n",
              "..          ...        ...         ...        ...   ...               ...   \n",
              "543         543      Large         919          1     4            64.340   \n",
              "544         544      Large         920          2     1            50.200   \n",
              "545         545      Large         920          2     2            45.750   \n",
              "546         546      Large         920          2     3            44.290   \n",
              "547         547      Large         920          2     4            49.410   \n",
              "\n",
              "       StoreAge  \n",
              "0    <=10 years  \n",
              "1    <=10 years  \n",
              "2    <=10 years  \n",
              "3    <=10 years  \n",
              "4    <=10 years  \n",
              "..          ...  \n",
              "543  <=10 years  \n",
              "544   >10 years  \n",
              "545   >10 years  \n",
              "546   >10 years  \n",
              "547   >10 years  \n",
              "\n",
              "[548 rows x 7 columns]"
            ],
            "text/html": [
              "\n",
              "  <div id=\"df-2a0dd5a3-120e-4b68-baf0-2331f40b94ec\">\n",
              "    <div class=\"colab-df-container\">\n",
              "      <div>\n",
              "<style scoped>\n",
              "    .dataframe tbody tr th:only-of-type {\n",
              "        vertical-align: middle;\n",
              "    }\n",
              "\n",
              "    .dataframe tbody tr th {\n",
              "        vertical-align: top;\n",
              "    }\n",
              "\n",
              "    .dataframe thead th {\n",
              "        text-align: right;\n",
              "    }\n",
              "</style>\n",
              "<table border=\"1\" class=\"dataframe\">\n",
              "  <thead>\n",
              "    <tr style=\"text-align: right;\">\n",
              "      <th></th>\n",
              "      <th>Unnamed: 0</th>\n",
              "      <th>MarketSize</th>\n",
              "      <th>LocationID</th>\n",
              "      <th>Promotion</th>\n",
              "      <th>week</th>\n",
              "      <th>SalesInThousands</th>\n",
              "      <th>StoreAge</th>\n",
              "    </tr>\n",
              "  </thead>\n",
              "  <tbody>\n",
              "    <tr>\n",
              "      <th>0</th>\n",
              "      <td>0</td>\n",
              "      <td>Medium</td>\n",
              "      <td>1</td>\n",
              "      <td>3</td>\n",
              "      <td>1</td>\n",
              "      <td>40.476</td>\n",
              "      <td>&lt;=10 years</td>\n",
              "    </tr>\n",
              "    <tr>\n",
              "      <th>1</th>\n",
              "      <td>1</td>\n",
              "      <td>Medium</td>\n",
              "      <td>1</td>\n",
              "      <td>3</td>\n",
              "      <td>2</td>\n",
              "      <td>42.804</td>\n",
              "      <td>&lt;=10 years</td>\n",
              "    </tr>\n",
              "    <tr>\n",
              "      <th>2</th>\n",
              "      <td>2</td>\n",
              "      <td>Medium</td>\n",
              "      <td>1</td>\n",
              "      <td>3</td>\n",
              "      <td>3</td>\n",
              "      <td>34.836</td>\n",
              "      <td>&lt;=10 years</td>\n",
              "    </tr>\n",
              "    <tr>\n",
              "      <th>3</th>\n",
              "      <td>3</td>\n",
              "      <td>Medium</td>\n",
              "      <td>1</td>\n",
              "      <td>3</td>\n",
              "      <td>4</td>\n",
              "      <td>47.100</td>\n",
              "      <td>&lt;=10 years</td>\n",
              "    </tr>\n",
              "    <tr>\n",
              "      <th>4</th>\n",
              "      <td>4</td>\n",
              "      <td>Medium</td>\n",
              "      <td>2</td>\n",
              "      <td>2</td>\n",
              "      <td>1</td>\n",
              "      <td>27.810</td>\n",
              "      <td>&lt;=10 years</td>\n",
              "    </tr>\n",
              "    <tr>\n",
              "      <th>...</th>\n",
              "      <td>...</td>\n",
              "      <td>...</td>\n",
              "      <td>...</td>\n",
              "      <td>...</td>\n",
              "      <td>...</td>\n",
              "      <td>...</td>\n",
              "      <td>...</td>\n",
              "    </tr>\n",
              "    <tr>\n",
              "      <th>543</th>\n",
              "      <td>543</td>\n",
              "      <td>Large</td>\n",
              "      <td>919</td>\n",
              "      <td>1</td>\n",
              "      <td>4</td>\n",
              "      <td>64.340</td>\n",
              "      <td>&lt;=10 years</td>\n",
              "    </tr>\n",
              "    <tr>\n",
              "      <th>544</th>\n",
              "      <td>544</td>\n",
              "      <td>Large</td>\n",
              "      <td>920</td>\n",
              "      <td>2</td>\n",
              "      <td>1</td>\n",
              "      <td>50.200</td>\n",
              "      <td>&gt;10 years</td>\n",
              "    </tr>\n",
              "    <tr>\n",
              "      <th>545</th>\n",
              "      <td>545</td>\n",
              "      <td>Large</td>\n",
              "      <td>920</td>\n",
              "      <td>2</td>\n",
              "      <td>2</td>\n",
              "      <td>45.750</td>\n",
              "      <td>&gt;10 years</td>\n",
              "    </tr>\n",
              "    <tr>\n",
              "      <th>546</th>\n",
              "      <td>546</td>\n",
              "      <td>Large</td>\n",
              "      <td>920</td>\n",
              "      <td>2</td>\n",
              "      <td>3</td>\n",
              "      <td>44.290</td>\n",
              "      <td>&gt;10 years</td>\n",
              "    </tr>\n",
              "    <tr>\n",
              "      <th>547</th>\n",
              "      <td>547</td>\n",
              "      <td>Large</td>\n",
              "      <td>920</td>\n",
              "      <td>2</td>\n",
              "      <td>4</td>\n",
              "      <td>49.410</td>\n",
              "      <td>&gt;10 years</td>\n",
              "    </tr>\n",
              "  </tbody>\n",
              "</table>\n",
              "<p>548 rows × 7 columns</p>\n",
              "</div>\n",
              "      <button class=\"colab-df-convert\" onclick=\"convertToInteractive('df-2a0dd5a3-120e-4b68-baf0-2331f40b94ec')\"\n",
              "              title=\"Convert this dataframe to an interactive table.\"\n",
              "              style=\"display:none;\">\n",
              "        \n",
              "  <svg xmlns=\"http://www.w3.org/2000/svg\" height=\"24px\"viewBox=\"0 0 24 24\"\n",
              "       width=\"24px\">\n",
              "    <path d=\"M0 0h24v24H0V0z\" fill=\"none\"/>\n",
              "    <path d=\"M18.56 5.44l.94 2.06.94-2.06 2.06-.94-2.06-.94-.94-2.06-.94 2.06-2.06.94zm-11 1L8.5 8.5l.94-2.06 2.06-.94-2.06-.94L8.5 2.5l-.94 2.06-2.06.94zm10 10l.94 2.06.94-2.06 2.06-.94-2.06-.94-.94-2.06-.94 2.06-2.06.94z\"/><path d=\"M17.41 7.96l-1.37-1.37c-.4-.4-.92-.59-1.43-.59-.52 0-1.04.2-1.43.59L10.3 9.45l-7.72 7.72c-.78.78-.78 2.05 0 2.83L4 21.41c.39.39.9.59 1.41.59.51 0 1.02-.2 1.41-.59l7.78-7.78 2.81-2.81c.8-.78.8-2.07 0-2.86zM5.41 20L4 18.59l7.72-7.72 1.47 1.35L5.41 20z\"/>\n",
              "  </svg>\n",
              "      </button>\n",
              "      \n",
              "  <style>\n",
              "    .colab-df-container {\n",
              "      display:flex;\n",
              "      flex-wrap:wrap;\n",
              "      gap: 12px;\n",
              "    }\n",
              "\n",
              "    .colab-df-convert {\n",
              "      background-color: #E8F0FE;\n",
              "      border: none;\n",
              "      border-radius: 50%;\n",
              "      cursor: pointer;\n",
              "      display: none;\n",
              "      fill: #1967D2;\n",
              "      height: 32px;\n",
              "      padding: 0 0 0 0;\n",
              "      width: 32px;\n",
              "    }\n",
              "\n",
              "    .colab-df-convert:hover {\n",
              "      background-color: #E2EBFA;\n",
              "      box-shadow: 0px 1px 2px rgba(60, 64, 67, 0.3), 0px 1px 3px 1px rgba(60, 64, 67, 0.15);\n",
              "      fill: #174EA6;\n",
              "    }\n",
              "\n",
              "    [theme=dark] .colab-df-convert {\n",
              "      background-color: #3B4455;\n",
              "      fill: #D2E3FC;\n",
              "    }\n",
              "\n",
              "    [theme=dark] .colab-df-convert:hover {\n",
              "      background-color: #434B5C;\n",
              "      box-shadow: 0px 1px 3px 1px rgba(0, 0, 0, 0.15);\n",
              "      filter: drop-shadow(0px 1px 2px rgba(0, 0, 0, 0.3));\n",
              "      fill: #FFFFFF;\n",
              "    }\n",
              "  </style>\n",
              "\n",
              "      <script>\n",
              "        const buttonEl =\n",
              "          document.querySelector('#df-2a0dd5a3-120e-4b68-baf0-2331f40b94ec button.colab-df-convert');\n",
              "        buttonEl.style.display =\n",
              "          google.colab.kernel.accessAllowed ? 'block' : 'none';\n",
              "\n",
              "        async function convertToInteractive(key) {\n",
              "          const element = document.querySelector('#df-2a0dd5a3-120e-4b68-baf0-2331f40b94ec');\n",
              "          const dataTable =\n",
              "            await google.colab.kernel.invokeFunction('convertToInteractive',\n",
              "                                                     [key], {});\n",
              "          if (!dataTable) return;\n",
              "\n",
              "          const docLinkHtml = 'Like what you see? Visit the ' +\n",
              "            '<a target=\"_blank\" href=https://colab.research.google.com/notebooks/data_table.ipynb>data table notebook</a>'\n",
              "            + ' to learn more about interactive tables.';\n",
              "          element.innerHTML = '';\n",
              "          dataTable['output_type'] = 'display_data';\n",
              "          await google.colab.output.renderOutput(dataTable, element);\n",
              "          const docLink = document.createElement('div');\n",
              "          docLink.innerHTML = docLinkHtml;\n",
              "          element.appendChild(docLink);\n",
              "        }\n",
              "      </script>\n",
              "    </div>\n",
              "  </div>\n",
              "  "
            ]
          },
          "metadata": {},
          "execution_count": 6
        }
      ],
      "source": [
        "df"
      ]
    },
    {
      "cell_type": "markdown",
      "id": "793d731b",
      "metadata": {
        "id": "793d731b"
      },
      "source": [
        "# 1. What is the median sales (SalesInThousands)?"
      ]
    },
    {
      "cell_type": "code",
      "execution_count": 7,
      "id": "7454a620",
      "metadata": {
        "id": "7454a620",
        "outputId": "e4f9638b-ac73-4299-e6f7-0269c93c0b5f",
        "colab": {
          "base_uri": "https://localhost:8080/"
        }
      },
      "outputs": [
        {
          "output_type": "execute_result",
          "data": {
            "text/plain": [
              "53.63"
            ]
          },
          "metadata": {},
          "execution_count": 7
        }
      ],
      "source": [
        "np.round(df['SalesInThousands'].median(),2)"
      ]
    },
    {
      "cell_type": "markdown",
      "source": [
        "# Answer: 53.63"
      ],
      "metadata": {
        "id": "YggtQcsW43kv"
      },
      "id": "YggtQcsW43kv"
    },
    {
      "cell_type": "markdown",
      "id": "aba0267d",
      "metadata": {
        "id": "aba0267d"
      },
      "source": [
        "# 2. Compute median sales in markets of different size (MarketSize). Markets of which size have the smallest median sales?"
      ]
    },
    {
      "cell_type": "code",
      "execution_count": 14,
      "id": "59ac9e1f",
      "metadata": {
        "id": "59ac9e1f",
        "outputId": "583456f8-1526-49d3-e513-3a12814ac4d1",
        "colab": {
          "base_uri": "https://localhost:8080/"
        }
      },
      "outputs": [
        {
          "output_type": "execute_result",
          "data": {
            "text/plain": [
              "MarketSize\n",
              "Medium    47.425\n",
              "Small     61.420\n",
              "Large     75.450\n",
              "Name: SalesInThousands, dtype: float64"
            ]
          },
          "metadata": {},
          "execution_count": 14
        }
      ],
      "source": [
        "df.groupby('MarketSize').median()['SalesInThousands'].sort_values(ascending=True)"
      ]
    },
    {
      "cell_type": "markdown",
      "id": "b2232d1e",
      "metadata": {
        "id": "b2232d1e"
      },
      "source": [
        "# Answer: Medium"
      ]
    },
    {
      "cell_type": "markdown",
      "id": "15cc8dee",
      "metadata": {
        "id": "15cc8dee"
      },
      "source": [
        "# 3. To select best promotion strategy marketing team ran three promotion strategies (Promotion) for 4 weeks (week). Is there a more than 5% difference between average sales in Large markets across 4 weeks ? "
      ]
    },
    {
      "cell_type": "code",
      "source": [
        "sales_mean = df[df.MarketSize=='Large'][['SalesInThousands']].mean().item()\n",
        "sales_max = df[df.MarketSize=='Large'].groupby(['Promotion'])[['SalesInThousands']].mean().max().item()"
      ],
      "metadata": {
        "id": "4D_zssac85ym"
      },
      "id": "4D_zssac85ym",
      "execution_count": 86,
      "outputs": []
    },
    {
      "cell_type": "code",
      "source": [
        "round(100*(sales_max / sales_mean - 1), 2)"
      ],
      "metadata": {
        "colab": {
          "base_uri": "https://localhost:8080/"
        },
        "id": "D4cN26Gn-0nz",
        "outputId": "7d424453-de1d-4610-a50b-b0baa8a4733f"
      },
      "id": "D4cN26Gn-0nz",
      "execution_count": 87,
      "outputs": [
        {
          "output_type": "execute_result",
          "data": {
            "text/plain": [
              "17.42"
            ]
          },
          "metadata": {},
          "execution_count": 87
        }
      ]
    },
    {
      "cell_type": "markdown",
      "id": "767c1d28",
      "metadata": {
        "id": "767c1d28"
      },
      "source": [
        "# Answer: yes"
      ]
    },
    {
      "cell_type": "markdown",
      "id": "0bb4c168",
      "metadata": {
        "id": "0bb4c168"
      },
      "source": [
        "# 4. Which market size are the most important when selecting a promotion strategy? Compute total sales in markets of different size."
      ]
    },
    {
      "cell_type": "code",
      "execution_count": 40,
      "id": "1f44ebf7",
      "metadata": {
        "id": "1f44ebf7",
        "outputId": "0632f0d4-b8c7-4c62-ba43-c4c3480f15d1",
        "colab": {
          "base_uri": "https://localhost:8080/"
        }
      },
      "outputs": [
        {
          "output_type": "execute_result",
          "data": {
            "text/plain": [
              "MarketSize\n",
              "Medium    15130.188\n",
              "Large     12150.189\n",
              "Small      4046.185\n",
              "Name: SalesInThousands, dtype: float64"
            ]
          },
          "metadata": {},
          "execution_count": 40
        }
      ],
      "source": [
        "df.groupby('MarketSize').sum()['SalesInThousands'].sort_values(ascending=False)"
      ]
    },
    {
      "cell_type": "markdown",
      "source": [
        "# Answer: Large - 15130, Medium - 12150, Small - 4046"
      ],
      "metadata": {
        "id": "h2TS-E9g4upG"
      },
      "id": "h2TS-E9g4upG"
    },
    {
      "cell_type": "markdown",
      "id": "54d34cab",
      "metadata": {
        "id": "54d34cab"
      },
      "source": [
        "# 5. Using bootstrap method sales team prepared 1000 samples of average sales in markets of Medium size (bootstrapped_means.csv). Help them estimate 99.5% confidence (two-sided) interval for average sales. (e.g. use `PERCENTILE` in google spreadsheets)"
      ]
    },
    {
      "cell_type": "code",
      "execution_count": 41,
      "id": "75a7270b",
      "metadata": {
        "id": "75a7270b",
        "outputId": "132c05c2-ebe4-44a8-cb50-195a8d7b458a",
        "colab": {
          "base_uri": "https://localhost:8080/",
          "height": 411
        }
      },
      "outputs": [
        {
          "output_type": "execute_result",
          "data": {
            "text/plain": [
              "     AverageSales  BootstrapID\n",
              "0       46.894525            0\n",
              "1       47.915681            1\n",
              "2       48.206869            2\n",
              "3       48.254650            3\n",
              "4       47.017113            4\n",
              "..            ...          ...\n",
              "995     46.410175          995\n",
              "996     46.739450          996\n",
              "997     46.577144          997\n",
              "998     46.739919          998\n",
              "999     46.915944          999\n",
              "\n",
              "[1000 rows x 2 columns]"
            ],
            "text/html": [
              "\n",
              "  <div id=\"df-6da98630-de77-4030-b2b2-db2b88c88884\">\n",
              "    <div class=\"colab-df-container\">\n",
              "      <div>\n",
              "<style scoped>\n",
              "    .dataframe tbody tr th:only-of-type {\n",
              "        vertical-align: middle;\n",
              "    }\n",
              "\n",
              "    .dataframe tbody tr th {\n",
              "        vertical-align: top;\n",
              "    }\n",
              "\n",
              "    .dataframe thead th {\n",
              "        text-align: right;\n",
              "    }\n",
              "</style>\n",
              "<table border=\"1\" class=\"dataframe\">\n",
              "  <thead>\n",
              "    <tr style=\"text-align: right;\">\n",
              "      <th></th>\n",
              "      <th>AverageSales</th>\n",
              "      <th>BootstrapID</th>\n",
              "    </tr>\n",
              "  </thead>\n",
              "  <tbody>\n",
              "    <tr>\n",
              "      <th>0</th>\n",
              "      <td>46.894525</td>\n",
              "      <td>0</td>\n",
              "    </tr>\n",
              "    <tr>\n",
              "      <th>1</th>\n",
              "      <td>47.915681</td>\n",
              "      <td>1</td>\n",
              "    </tr>\n",
              "    <tr>\n",
              "      <th>2</th>\n",
              "      <td>48.206869</td>\n",
              "      <td>2</td>\n",
              "    </tr>\n",
              "    <tr>\n",
              "      <th>3</th>\n",
              "      <td>48.254650</td>\n",
              "      <td>3</td>\n",
              "    </tr>\n",
              "    <tr>\n",
              "      <th>4</th>\n",
              "      <td>47.017113</td>\n",
              "      <td>4</td>\n",
              "    </tr>\n",
              "    <tr>\n",
              "      <th>...</th>\n",
              "      <td>...</td>\n",
              "      <td>...</td>\n",
              "    </tr>\n",
              "    <tr>\n",
              "      <th>995</th>\n",
              "      <td>46.410175</td>\n",
              "      <td>995</td>\n",
              "    </tr>\n",
              "    <tr>\n",
              "      <th>996</th>\n",
              "      <td>46.739450</td>\n",
              "      <td>996</td>\n",
              "    </tr>\n",
              "    <tr>\n",
              "      <th>997</th>\n",
              "      <td>46.577144</td>\n",
              "      <td>997</td>\n",
              "    </tr>\n",
              "    <tr>\n",
              "      <th>998</th>\n",
              "      <td>46.739919</td>\n",
              "      <td>998</td>\n",
              "    </tr>\n",
              "    <tr>\n",
              "      <th>999</th>\n",
              "      <td>46.915944</td>\n",
              "      <td>999</td>\n",
              "    </tr>\n",
              "  </tbody>\n",
              "</table>\n",
              "<p>1000 rows × 2 columns</p>\n",
              "</div>\n",
              "      <button class=\"colab-df-convert\" onclick=\"convertToInteractive('df-6da98630-de77-4030-b2b2-db2b88c88884')\"\n",
              "              title=\"Convert this dataframe to an interactive table.\"\n",
              "              style=\"display:none;\">\n",
              "        \n",
              "  <svg xmlns=\"http://www.w3.org/2000/svg\" height=\"24px\"viewBox=\"0 0 24 24\"\n",
              "       width=\"24px\">\n",
              "    <path d=\"M0 0h24v24H0V0z\" fill=\"none\"/>\n",
              "    <path d=\"M18.56 5.44l.94 2.06.94-2.06 2.06-.94-2.06-.94-.94-2.06-.94 2.06-2.06.94zm-11 1L8.5 8.5l.94-2.06 2.06-.94-2.06-.94L8.5 2.5l-.94 2.06-2.06.94zm10 10l.94 2.06.94-2.06 2.06-.94-2.06-.94-.94-2.06-.94 2.06-2.06.94z\"/><path d=\"M17.41 7.96l-1.37-1.37c-.4-.4-.92-.59-1.43-.59-.52 0-1.04.2-1.43.59L10.3 9.45l-7.72 7.72c-.78.78-.78 2.05 0 2.83L4 21.41c.39.39.9.59 1.41.59.51 0 1.02-.2 1.41-.59l7.78-7.78 2.81-2.81c.8-.78.8-2.07 0-2.86zM5.41 20L4 18.59l7.72-7.72 1.47 1.35L5.41 20z\"/>\n",
              "  </svg>\n",
              "      </button>\n",
              "      \n",
              "  <style>\n",
              "    .colab-df-container {\n",
              "      display:flex;\n",
              "      flex-wrap:wrap;\n",
              "      gap: 12px;\n",
              "    }\n",
              "\n",
              "    .colab-df-convert {\n",
              "      background-color: #E8F0FE;\n",
              "      border: none;\n",
              "      border-radius: 50%;\n",
              "      cursor: pointer;\n",
              "      display: none;\n",
              "      fill: #1967D2;\n",
              "      height: 32px;\n",
              "      padding: 0 0 0 0;\n",
              "      width: 32px;\n",
              "    }\n",
              "\n",
              "    .colab-df-convert:hover {\n",
              "      background-color: #E2EBFA;\n",
              "      box-shadow: 0px 1px 2px rgba(60, 64, 67, 0.3), 0px 1px 3px 1px rgba(60, 64, 67, 0.15);\n",
              "      fill: #174EA6;\n",
              "    }\n",
              "\n",
              "    [theme=dark] .colab-df-convert {\n",
              "      background-color: #3B4455;\n",
              "      fill: #D2E3FC;\n",
              "    }\n",
              "\n",
              "    [theme=dark] .colab-df-convert:hover {\n",
              "      background-color: #434B5C;\n",
              "      box-shadow: 0px 1px 3px 1px rgba(0, 0, 0, 0.15);\n",
              "      filter: drop-shadow(0px 1px 2px rgba(0, 0, 0, 0.3));\n",
              "      fill: #FFFFFF;\n",
              "    }\n",
              "  </style>\n",
              "\n",
              "      <script>\n",
              "        const buttonEl =\n",
              "          document.querySelector('#df-6da98630-de77-4030-b2b2-db2b88c88884 button.colab-df-convert');\n",
              "        buttonEl.style.display =\n",
              "          google.colab.kernel.accessAllowed ? 'block' : 'none';\n",
              "\n",
              "        async function convertToInteractive(key) {\n",
              "          const element = document.querySelector('#df-6da98630-de77-4030-b2b2-db2b88c88884');\n",
              "          const dataTable =\n",
              "            await google.colab.kernel.invokeFunction('convertToInteractive',\n",
              "                                                     [key], {});\n",
              "          if (!dataTable) return;\n",
              "\n",
              "          const docLinkHtml = 'Like what you see? Visit the ' +\n",
              "            '<a target=\"_blank\" href=https://colab.research.google.com/notebooks/data_table.ipynb>data table notebook</a>'\n",
              "            + ' to learn more about interactive tables.';\n",
              "          element.innerHTML = '';\n",
              "          dataTable['output_type'] = 'display_data';\n",
              "          await google.colab.output.renderOutput(dataTable, element);\n",
              "          const docLink = document.createElement('div');\n",
              "          docLink.innerHTML = docLinkHtml;\n",
              "          element.appendChild(docLink);\n",
              "        }\n",
              "      </script>\n",
              "    </div>\n",
              "  </div>\n",
              "  "
            ]
          },
          "metadata": {},
          "execution_count": 41
        }
      ],
      "source": [
        "df_boots = pd.read_csv('bootstrapped_means.csv')\n",
        "df_boots"
      ]
    },
    {
      "cell_type": "code",
      "source": [
        "np.round(df_boots['AverageSales'].quantile(0.0025),2), np.round(df_boots['AverageSales'].quantile(0.9975),2)"
      ],
      "metadata": {
        "colab": {
          "base_uri": "https://localhost:8080/"
        },
        "id": "qy5HxgcI0Ad_",
        "outputId": "1a27da24-3d1c-4e91-a31b-317daeeb7d77"
      },
      "id": "qy5HxgcI0Ad_",
      "execution_count": 43,
      "outputs": [
        {
          "output_type": "execute_result",
          "data": {
            "text/plain": [
              "(45.48, 49.02)"
            ]
          },
          "metadata": {},
          "execution_count": 43
        }
      ]
    },
    {
      "cell_type": "markdown",
      "id": "94a70fdb",
      "metadata": {
        "id": "94a70fdb"
      },
      "source": [
        "# Answer: [45.48, 49.02]"
      ]
    },
    {
      "cell_type": "markdown",
      "id": "7a0ce655",
      "metadata": {
        "id": "7a0ce655"
      },
      "source": [
        "# 6. Compare sales in markets where different promotions were ran. Which promotion strategy showed the best results in terms of average sales?"
      ]
    },
    {
      "cell_type": "code",
      "execution_count": 47,
      "id": "32b7e26b",
      "metadata": {
        "id": "32b7e26b",
        "outputId": "f65ac874-2a15-429d-ebf4-62e26310c1f1",
        "colab": {
          "base_uri": "https://localhost:8080/"
        }
      },
      "outputs": [
        {
          "output_type": "execute_result",
          "data": {
            "text/plain": [
              "Promotion\n",
              "3    62.946686\n",
              "1    61.596831\n",
              "2    47.329415\n",
              "Name: SalesInThousands, dtype: float64"
            ]
          },
          "metadata": {},
          "execution_count": 47
        }
      ],
      "source": [
        "df.groupby('Promotion').mean()['SalesInThousands'].sort_values(ascending=False)"
      ]
    },
    {
      "cell_type": "markdown",
      "id": "08dce769",
      "metadata": {
        "id": "08dce769"
      },
      "source": [
        "# Answer: 3"
      ]
    },
    {
      "cell_type": "markdown",
      "id": "0fe2837a",
      "metadata": {
        "id": "0fe2837a"
      },
      "source": [
        "# 7. Are the differences between strategies 1 and 2 statistically significant? Use two-sided Student T-test with confidence level 5%. (e.g. select appropriate rows in Orange, store a csv and use TTEST in google spreadsheet with 2 tails of type 2, see example in https://docs.google.com/spreadsheets/d/132BCqQUFpPbmxPvdZCFbPkkXVmx5iLHQQZas9dWi4cs/edit?usp=sharing)"
      ]
    },
    {
      "cell_type": "code",
      "execution_count": 51,
      "id": "adbc2548",
      "metadata": {
        "id": "adbc2548"
      },
      "outputs": [],
      "source": [
        "prom_2 = df[df.Promotion == 2]['SalesInThousands']\n",
        "prom_1 = df[df.Promotion == 1]['SalesInThousands']\n",
        "print(np.mean(prom_1), np.mean(prom_2))"
      ]
    },
    {
      "cell_type": "code",
      "execution_count": 53,
      "id": "8282b000",
      "metadata": {
        "id": "8282b000",
        "outputId": "7b306d12-e55e-407e-abb0-a77f0a6c58dd",
        "colab": {
          "base_uri": "https://localhost:8080/"
        }
      },
      "outputs": [
        {
          "output_type": "execute_result",
          "data": {
            "text/plain": [
              "Ttest_indResult(statistic=7.761907735013977, pvalue=8.85304097461179e-14)"
            ]
          },
          "metadata": {},
          "execution_count": 53
        }
      ],
      "source": [
        "from scipy.stats import ttest_ind\n",
        "\n",
        "ttest_ind(prom_1, prom_2)"
      ]
    },
    {
      "cell_type": "markdown",
      "id": "6852ba22",
      "metadata": {
        "id": "6852ba22"
      },
      "source": [
        "# Answer: Yes, promotion 1 is statistically significantly better than promotion 2 with pvalue less than 1%"
      ]
    },
    {
      "cell_type": "markdown",
      "id": "02da77d5",
      "metadata": {
        "id": "02da77d5"
      },
      "source": [
        "# 8. Are the differences between strategies 1 and 3 statistically significant? Use two-sided Student T-test with confidence level 5%. Which strategy should we select?"
      ]
    },
    {
      "cell_type": "code",
      "execution_count": 57,
      "id": "74fb10f9",
      "metadata": {
        "id": "74fb10f9",
        "colab": {
          "base_uri": "https://localhost:8080/"
        },
        "outputId": "841bb0f4-b736-4b30-d11d-3183670b44c5"
      },
      "outputs": [
        {
          "output_type": "stream",
          "name": "stdout",
          "text": [
            "61.59683139534887 62.94668617021277\n"
          ]
        }
      ],
      "source": [
        "prom_3 = df[df.Promotion == 3]['SalesInThousands']\n",
        "print(np.mean(prom_1), np.mean(prom_3))"
      ]
    },
    {
      "cell_type": "code",
      "execution_count": 56,
      "id": "f88e72f4",
      "metadata": {
        "id": "f88e72f4",
        "outputId": "99feb292-2877-4147-e58a-f117573332db",
        "colab": {
          "base_uri": "https://localhost:8080/"
        }
      },
      "outputs": [
        {
          "output_type": "execute_result",
          "data": {
            "text/plain": [
              "Ttest_indResult(statistic=-0.6963281649703501, pvalue=0.4866751758880089)"
            ]
          },
          "metadata": {},
          "execution_count": 56
        }
      ],
      "source": [
        "ttest_ind(prom_1, prom_3)"
      ]
    },
    {
      "cell_type": "markdown",
      "id": "bb39a84b",
      "metadata": {
        "id": "bb39a84b"
      },
      "source": [
        "# Answer: While there is a difference in mean sales for promotion 1 and 3, it is not statistically significant, therefore we could select any strategy."
      ]
    },
    {
      "cell_type": "markdown",
      "id": "d415e141",
      "metadata": {
        "id": "d415e141"
      },
      "source": [
        "# 9. Compare the sales for strategies 1 and 3 but now for markets of different size separatly. Compare Large markets with strategies 1 and 3. Compare Medium markets with strategies 1 and 3. Compare Small markets with strategies 1 and 3. Are the differences between strategies 1 and 3 stratified by markets of different size statistically significant (5%), which strategy should we select?"
      ]
    },
    {
      "cell_type": "code",
      "source": [
        "prom_1_large = df[(df.Promotion == 1)&(df.MarketSize == 'Large')]['SalesInThousands']\n",
        "prom_3_large = df[(df.Promotion == 3)&(df.MarketSize == 'Large')]['SalesInThousands']\n",
        "ttest_ind(prom_1_large, prom_3_large)"
      ],
      "metadata": {
        "colab": {
          "base_uri": "https://localhost:8080/"
        },
        "id": "E0sgBOdv21sG",
        "outputId": "6a790dab-da15-4d14-86aa-3db19467dd31"
      },
      "id": "E0sgBOdv21sG",
      "execution_count": 58,
      "outputs": [
        {
          "output_type": "execute_result",
          "data": {
            "text/plain": [
              "Ttest_indResult(statistic=-3.1460147617621512, pvalue=0.00216943975023725)"
            ]
          },
          "metadata": {},
          "execution_count": 58
        }
      ]
    },
    {
      "cell_type": "code",
      "source": [
        "prom_1_medium = df[(df.Promotion == 1)&(df.MarketSize == 'Medium')]['SalesInThousands']\n",
        "prom_3_medium = df[(df.Promotion == 3)&(df.MarketSize == 'Medium')]['SalesInThousands']\n",
        "ttest_ind(prom_1_medium, prom_3_medium)"
      ],
      "metadata": {
        "colab": {
          "base_uri": "https://localhost:8080/"
        },
        "id": "6KSv4kKQ21vb",
        "outputId": "31f0cfbb-4c58-4ec1-e1f4-b3f1b9d26a19"
      },
      "id": "6KSv4kKQ21vb",
      "execution_count": 59,
      "outputs": [
        {
          "output_type": "execute_result",
          "data": {
            "text/plain": [
              "Ttest_indResult(statistic=-5.546126944655512, pvalue=8.726919451850998e-08)"
            ]
          },
          "metadata": {},
          "execution_count": 59
        }
      ]
    },
    {
      "cell_type": "code",
      "source": [
        "prom_1_small = df[(df.Promotion == 1)&(df.MarketSize == 'Small')]['SalesInThousands']\n",
        "prom_3_small = df[(df.Promotion == 3)&(df.MarketSize == 'Small')]['SalesInThousands']\n",
        "ttest_ind(prom_1_small, prom_3_small)"
      ],
      "metadata": {
        "colab": {
          "base_uri": "https://localhost:8080/"
        },
        "id": "sFUp729K2-fU",
        "outputId": "f1c97290-1f98-4a0f-f8c4-c1e824f3b456"
      },
      "id": "sFUp729K2-fU",
      "execution_count": 60,
      "outputs": [
        {
          "output_type": "execute_result",
          "data": {
            "text/plain": [
              "Ttest_indResult(statistic=15.729103026221384, pvalue=3.286527960169143e-19)"
            ]
          },
          "metadata": {},
          "execution_count": 60
        }
      ]
    },
    {
      "cell_type": "markdown",
      "id": "702cef7b",
      "metadata": {
        "id": "702cef7b"
      },
      "source": [
        "# Answer: Run strategy 3 for Large and Medium markets and strategy 1 for Small markets"
      ]
    },
    {
      "cell_type": "markdown",
      "id": "c9ed5b18",
      "metadata": {
        "id": "c9ed5b18"
      },
      "source": [
        "# 10. If instead of running promotions for 4 weeks we have only ran it for 1 week, does your answer to the previous question change? If we now look for confidence level 10%?"
      ]
    },
    {
      "cell_type": "code",
      "source": [
        "df_10 = df[df.week==1]"
      ],
      "metadata": {
        "id": "TnfkRiYl3Tbi"
      },
      "id": "TnfkRiYl3Tbi",
      "execution_count": 63,
      "outputs": []
    },
    {
      "cell_type": "code",
      "source": [
        "prom_1_large_ = df_10[(df_10.Promotion == 1)&(df_10.MarketSize == 'Large')]['SalesInThousands']\n",
        "prom_3_large_ = df_10[(df_10.Promotion == 3)&(df_10.MarketSize == 'Large')]['SalesInThousands']\n",
        "ttest_ind(prom_1_large_, prom_3_large_)"
      ],
      "metadata": {
        "colab": {
          "base_uri": "https://localhost:8080/"
        },
        "id": "7mYZEk_T35zh",
        "outputId": "e03df2df-2374-42c3-e422-25738db6e106"
      },
      "id": "7mYZEk_T35zh",
      "execution_count": 64,
      "outputs": [
        {
          "output_type": "execute_result",
          "data": {
            "text/plain": [
              "Ttest_indResult(statistic=-1.7931023723764705, pvalue=0.08556982681378379)"
            ]
          },
          "metadata": {},
          "execution_count": 64
        }
      ]
    },
    {
      "cell_type": "code",
      "source": [
        "prom_1_medium_ = df_10[(df_10.Promotion == 1)&(df_10.MarketSize == 'Medium')]['SalesInThousands']\n",
        "prom_3_medium_ = df_10[(df_10.Promotion == 3)&(df_10.MarketSize == 'Medium')]['SalesInThousands']\n",
        "ttest_ind(prom_1_medium_, prom_3_medium_)"
      ],
      "metadata": {
        "colab": {
          "base_uri": "https://localhost:8080/"
        },
        "id": "43AI-kJJ36Ak",
        "outputId": "16f44b2a-ace3-4dde-f142-becd5085cc00"
      },
      "id": "43AI-kJJ36Ak",
      "execution_count": 65,
      "outputs": [
        {
          "output_type": "execute_result",
          "data": {
            "text/plain": [
              "Ttest_indResult(statistic=-2.434484067162056, pvalue=0.01845222033396582)"
            ]
          },
          "metadata": {},
          "execution_count": 65
        }
      ]
    },
    {
      "cell_type": "code",
      "execution_count": 66,
      "id": "d31e4d42",
      "metadata": {
        "id": "d31e4d42",
        "outputId": "34e10e8c-8f0b-4d2d-b31b-3572d67e2855",
        "colab": {
          "base_uri": "https://localhost:8080/"
        }
      },
      "outputs": [
        {
          "output_type": "execute_result",
          "data": {
            "text/plain": [
              "Ttest_indResult(statistic=7.177589277766924, pvalue=5.208042684076091e-05)"
            ]
          },
          "metadata": {},
          "execution_count": 66
        }
      ],
      "source": [
        "prom_1_small_ = df_10[(df_10.Promotion == 1)&(df_10.MarketSize == 'Small')]['SalesInThousands']\n",
        "prom_3_small_ = df_10[(df_10.Promotion == 3)&(df_10.MarketSize == 'Small')]['SalesInThousands']\n",
        "ttest_ind(prom_1_small_, prom_3_small_)"
      ]
    },
    {
      "cell_type": "markdown",
      "id": "c36d1ebe",
      "metadata": {
        "id": "c36d1ebe"
      },
      "source": [
        "# For 10% confidence level the answer is the same. For 5% confidence level strategy 3 is not statistically significantly different from strategy 1 for Large markets"
      ]
    }
  ],
  "metadata": {
    "kernelspec": {
      "display_name": "Python 3",
      "language": "python",
      "name": "python3"
    },
    "language_info": {
      "codemirror_mode": {
        "name": "ipython",
        "version": 3
      },
      "file_extension": ".py",
      "mimetype": "text/x-python",
      "name": "python",
      "nbconvert_exporter": "python",
      "pygments_lexer": "ipython3",
      "version": "3.8.8"
    },
    "colab": {
      "name": "hw4_Zabrodina.ipynb",
      "provenance": []
    }
  },
  "nbformat": 4,
  "nbformat_minor": 5
}