{
  "nbformat": 4,
  "nbformat_minor": 0,
  "metadata": {
    "colab": {
      "name": "HW1_Zabrodina.ipynb",
      "provenance": []
    },
    "kernelspec": {
      "name": "python3",
      "display_name": "Python 3"
    },
    "language_info": {
      "name": "python"
    }
  },
  "cells": [
    {
      "cell_type": "code",
      "execution_count": 105,
      "metadata": {
        "id": "vEkIDm1Ds2WN"
      },
      "outputs": [],
      "source": [
        "import numpy as np\n",
        "import matplotlib.pyplot as plt\n",
        "import pandas as pd\n",
        "from sklearn.neighbors import KNeighborsClassifier\n",
        "from sklearn.model_selection import train_test_split\n",
        "from sklearn.metrics import accuracy_score\n",
        "import warnings\n",
        "warnings.filterwarnings('ignore')"
      ]
    },
    {
      "cell_type": "code",
      "source": [
        "df = pd.read_csv(\"train.csv\")\n",
        "df = df.drop(columns = ['PassengerId','Cabin','Name'], axis = 1)"
      ],
      "metadata": {
        "id": "RvdEa-QitdnY"
      },
      "execution_count": 106,
      "outputs": []
    },
    {
      "cell_type": "code",
      "source": [
        "df"
      ],
      "metadata": {
        "colab": {
          "base_uri": "https://localhost:8080/",
          "height": 411
        },
        "id": "QLyEJZtauWvU",
        "outputId": "07703631-ea2f-45d3-b211-44e87612e979"
      },
      "execution_count": 107,
      "outputs": [
        {
          "output_type": "execute_result",
          "data": {
            "text/plain": [
              "     HomePlanet CryoSleep    Destination   Age    VIP  RoomService  FoodCourt  \\\n",
              "0        Europa     False    TRAPPIST-1e  39.0  False          0.0        0.0   \n",
              "1         Earth     False    TRAPPIST-1e  24.0  False        109.0        9.0   \n",
              "2        Europa     False    TRAPPIST-1e  58.0   True         43.0     3576.0   \n",
              "3        Europa     False    TRAPPIST-1e  33.0  False          0.0     1283.0   \n",
              "4         Earth     False    TRAPPIST-1e  16.0  False        303.0       70.0   \n",
              "...         ...       ...            ...   ...    ...          ...        ...   \n",
              "8688     Europa     False    55 Cancri e  41.0   True          0.0     6819.0   \n",
              "8689      Earth      True  PSO J318.5-22  18.0  False          0.0        0.0   \n",
              "8690      Earth     False    TRAPPIST-1e  26.0  False          0.0        0.0   \n",
              "8691     Europa     False    55 Cancri e  32.0  False          0.0     1049.0   \n",
              "8692     Europa     False    TRAPPIST-1e  44.0  False        126.0     4688.0   \n",
              "\n",
              "      ShoppingMall     Spa  VRDeck  Transported  \n",
              "0              0.0     0.0     0.0        False  \n",
              "1             25.0   549.0    44.0         True  \n",
              "2              0.0  6715.0    49.0        False  \n",
              "3            371.0  3329.0   193.0        False  \n",
              "4            151.0   565.0     2.0         True  \n",
              "...            ...     ...     ...          ...  \n",
              "8688           0.0  1643.0    74.0        False  \n",
              "8689           0.0     0.0     0.0        False  \n",
              "8690        1872.0     1.0     0.0         True  \n",
              "8691           0.0   353.0  3235.0        False  \n",
              "8692           0.0     0.0    12.0         True  \n",
              "\n",
              "[8693 rows x 11 columns]"
            ],
            "text/html": [
              "\n",
              "  <div id=\"df-91ae6d8d-8d41-42f8-b523-0963ab4dc458\">\n",
              "    <div class=\"colab-df-container\">\n",
              "      <div>\n",
              "<style scoped>\n",
              "    .dataframe tbody tr th:only-of-type {\n",
              "        vertical-align: middle;\n",
              "    }\n",
              "\n",
              "    .dataframe tbody tr th {\n",
              "        vertical-align: top;\n",
              "    }\n",
              "\n",
              "    .dataframe thead th {\n",
              "        text-align: right;\n",
              "    }\n",
              "</style>\n",
              "<table border=\"1\" class=\"dataframe\">\n",
              "  <thead>\n",
              "    <tr style=\"text-align: right;\">\n",
              "      <th></th>\n",
              "      <th>HomePlanet</th>\n",
              "      <th>CryoSleep</th>\n",
              "      <th>Destination</th>\n",
              "      <th>Age</th>\n",
              "      <th>VIP</th>\n",
              "      <th>RoomService</th>\n",
              "      <th>FoodCourt</th>\n",
              "      <th>ShoppingMall</th>\n",
              "      <th>Spa</th>\n",
              "      <th>VRDeck</th>\n",
              "      <th>Transported</th>\n",
              "    </tr>\n",
              "  </thead>\n",
              "  <tbody>\n",
              "    <tr>\n",
              "      <th>0</th>\n",
              "      <td>Europa</td>\n",
              "      <td>False</td>\n",
              "      <td>TRAPPIST-1e</td>\n",
              "      <td>39.0</td>\n",
              "      <td>False</td>\n",
              "      <td>0.0</td>\n",
              "      <td>0.0</td>\n",
              "      <td>0.0</td>\n",
              "      <td>0.0</td>\n",
              "      <td>0.0</td>\n",
              "      <td>False</td>\n",
              "    </tr>\n",
              "    <tr>\n",
              "      <th>1</th>\n",
              "      <td>Earth</td>\n",
              "      <td>False</td>\n",
              "      <td>TRAPPIST-1e</td>\n",
              "      <td>24.0</td>\n",
              "      <td>False</td>\n",
              "      <td>109.0</td>\n",
              "      <td>9.0</td>\n",
              "      <td>25.0</td>\n",
              "      <td>549.0</td>\n",
              "      <td>44.0</td>\n",
              "      <td>True</td>\n",
              "    </tr>\n",
              "    <tr>\n",
              "      <th>2</th>\n",
              "      <td>Europa</td>\n",
              "      <td>False</td>\n",
              "      <td>TRAPPIST-1e</td>\n",
              "      <td>58.0</td>\n",
              "      <td>True</td>\n",
              "      <td>43.0</td>\n",
              "      <td>3576.0</td>\n",
              "      <td>0.0</td>\n",
              "      <td>6715.0</td>\n",
              "      <td>49.0</td>\n",
              "      <td>False</td>\n",
              "    </tr>\n",
              "    <tr>\n",
              "      <th>3</th>\n",
              "      <td>Europa</td>\n",
              "      <td>False</td>\n",
              "      <td>TRAPPIST-1e</td>\n",
              "      <td>33.0</td>\n",
              "      <td>False</td>\n",
              "      <td>0.0</td>\n",
              "      <td>1283.0</td>\n",
              "      <td>371.0</td>\n",
              "      <td>3329.0</td>\n",
              "      <td>193.0</td>\n",
              "      <td>False</td>\n",
              "    </tr>\n",
              "    <tr>\n",
              "      <th>4</th>\n",
              "      <td>Earth</td>\n",
              "      <td>False</td>\n",
              "      <td>TRAPPIST-1e</td>\n",
              "      <td>16.0</td>\n",
              "      <td>False</td>\n",
              "      <td>303.0</td>\n",
              "      <td>70.0</td>\n",
              "      <td>151.0</td>\n",
              "      <td>565.0</td>\n",
              "      <td>2.0</td>\n",
              "      <td>True</td>\n",
              "    </tr>\n",
              "    <tr>\n",
              "      <th>...</th>\n",
              "      <td>...</td>\n",
              "      <td>...</td>\n",
              "      <td>...</td>\n",
              "      <td>...</td>\n",
              "      <td>...</td>\n",
              "      <td>...</td>\n",
              "      <td>...</td>\n",
              "      <td>...</td>\n",
              "      <td>...</td>\n",
              "      <td>...</td>\n",
              "      <td>...</td>\n",
              "    </tr>\n",
              "    <tr>\n",
              "      <th>8688</th>\n",
              "      <td>Europa</td>\n",
              "      <td>False</td>\n",
              "      <td>55 Cancri e</td>\n",
              "      <td>41.0</td>\n",
              "      <td>True</td>\n",
              "      <td>0.0</td>\n",
              "      <td>6819.0</td>\n",
              "      <td>0.0</td>\n",
              "      <td>1643.0</td>\n",
              "      <td>74.0</td>\n",
              "      <td>False</td>\n",
              "    </tr>\n",
              "    <tr>\n",
              "      <th>8689</th>\n",
              "      <td>Earth</td>\n",
              "      <td>True</td>\n",
              "      <td>PSO J318.5-22</td>\n",
              "      <td>18.0</td>\n",
              "      <td>False</td>\n",
              "      <td>0.0</td>\n",
              "      <td>0.0</td>\n",
              "      <td>0.0</td>\n",
              "      <td>0.0</td>\n",
              "      <td>0.0</td>\n",
              "      <td>False</td>\n",
              "    </tr>\n",
              "    <tr>\n",
              "      <th>8690</th>\n",
              "      <td>Earth</td>\n",
              "      <td>False</td>\n",
              "      <td>TRAPPIST-1e</td>\n",
              "      <td>26.0</td>\n",
              "      <td>False</td>\n",
              "      <td>0.0</td>\n",
              "      <td>0.0</td>\n",
              "      <td>1872.0</td>\n",
              "      <td>1.0</td>\n",
              "      <td>0.0</td>\n",
              "      <td>True</td>\n",
              "    </tr>\n",
              "    <tr>\n",
              "      <th>8691</th>\n",
              "      <td>Europa</td>\n",
              "      <td>False</td>\n",
              "      <td>55 Cancri e</td>\n",
              "      <td>32.0</td>\n",
              "      <td>False</td>\n",
              "      <td>0.0</td>\n",
              "      <td>1049.0</td>\n",
              "      <td>0.0</td>\n",
              "      <td>353.0</td>\n",
              "      <td>3235.0</td>\n",
              "      <td>False</td>\n",
              "    </tr>\n",
              "    <tr>\n",
              "      <th>8692</th>\n",
              "      <td>Europa</td>\n",
              "      <td>False</td>\n",
              "      <td>TRAPPIST-1e</td>\n",
              "      <td>44.0</td>\n",
              "      <td>False</td>\n",
              "      <td>126.0</td>\n",
              "      <td>4688.0</td>\n",
              "      <td>0.0</td>\n",
              "      <td>0.0</td>\n",
              "      <td>12.0</td>\n",
              "      <td>True</td>\n",
              "    </tr>\n",
              "  </tbody>\n",
              "</table>\n",
              "<p>8693 rows × 11 columns</p>\n",
              "</div>\n",
              "      <button class=\"colab-df-convert\" onclick=\"convertToInteractive('df-91ae6d8d-8d41-42f8-b523-0963ab4dc458')\"\n",
              "              title=\"Convert this dataframe to an interactive table.\"\n",
              "              style=\"display:none;\">\n",
              "        \n",
              "  <svg xmlns=\"http://www.w3.org/2000/svg\" height=\"24px\"viewBox=\"0 0 24 24\"\n",
              "       width=\"24px\">\n",
              "    <path d=\"M0 0h24v24H0V0z\" fill=\"none\"/>\n",
              "    <path d=\"M18.56 5.44l.94 2.06.94-2.06 2.06-.94-2.06-.94-.94-2.06-.94 2.06-2.06.94zm-11 1L8.5 8.5l.94-2.06 2.06-.94-2.06-.94L8.5 2.5l-.94 2.06-2.06.94zm10 10l.94 2.06.94-2.06 2.06-.94-2.06-.94-.94-2.06-.94 2.06-2.06.94z\"/><path d=\"M17.41 7.96l-1.37-1.37c-.4-.4-.92-.59-1.43-.59-.52 0-1.04.2-1.43.59L10.3 9.45l-7.72 7.72c-.78.78-.78 2.05 0 2.83L4 21.41c.39.39.9.59 1.41.59.51 0 1.02-.2 1.41-.59l7.78-7.78 2.81-2.81c.8-.78.8-2.07 0-2.86zM5.41 20L4 18.59l7.72-7.72 1.47 1.35L5.41 20z\"/>\n",
              "  </svg>\n",
              "      </button>\n",
              "      \n",
              "  <style>\n",
              "    .colab-df-container {\n",
              "      display:flex;\n",
              "      flex-wrap:wrap;\n",
              "      gap: 12px;\n",
              "    }\n",
              "\n",
              "    .colab-df-convert {\n",
              "      background-color: #E8F0FE;\n",
              "      border: none;\n",
              "      border-radius: 50%;\n",
              "      cursor: pointer;\n",
              "      display: none;\n",
              "      fill: #1967D2;\n",
              "      height: 32px;\n",
              "      padding: 0 0 0 0;\n",
              "      width: 32px;\n",
              "    }\n",
              "\n",
              "    .colab-df-convert:hover {\n",
              "      background-color: #E2EBFA;\n",
              "      box-shadow: 0px 1px 2px rgba(60, 64, 67, 0.3), 0px 1px 3px 1px rgba(60, 64, 67, 0.15);\n",
              "      fill: #174EA6;\n",
              "    }\n",
              "\n",
              "    [theme=dark] .colab-df-convert {\n",
              "      background-color: #3B4455;\n",
              "      fill: #D2E3FC;\n",
              "    }\n",
              "\n",
              "    [theme=dark] .colab-df-convert:hover {\n",
              "      background-color: #434B5C;\n",
              "      box-shadow: 0px 1px 3px 1px rgba(0, 0, 0, 0.15);\n",
              "      filter: drop-shadow(0px 1px 2px rgba(0, 0, 0, 0.3));\n",
              "      fill: #FFFFFF;\n",
              "    }\n",
              "  </style>\n",
              "\n",
              "      <script>\n",
              "        const buttonEl =\n",
              "          document.querySelector('#df-91ae6d8d-8d41-42f8-b523-0963ab4dc458 button.colab-df-convert');\n",
              "        buttonEl.style.display =\n",
              "          google.colab.kernel.accessAllowed ? 'block' : 'none';\n",
              "\n",
              "        async function convertToInteractive(key) {\n",
              "          const element = document.querySelector('#df-91ae6d8d-8d41-42f8-b523-0963ab4dc458');\n",
              "          const dataTable =\n",
              "            await google.colab.kernel.invokeFunction('convertToInteractive',\n",
              "                                                     [key], {});\n",
              "          if (!dataTable) return;\n",
              "\n",
              "          const docLinkHtml = 'Like what you see? Visit the ' +\n",
              "            '<a target=\"_blank\" href=https://colab.research.google.com/notebooks/data_table.ipynb>data table notebook</a>'\n",
              "            + ' to learn more about interactive tables.';\n",
              "          element.innerHTML = '';\n",
              "          dataTable['output_type'] = 'display_data';\n",
              "          await google.colab.output.renderOutput(dataTable, element);\n",
              "          const docLink = document.createElement('div');\n",
              "          docLink.innerHTML = docLinkHtml;\n",
              "          element.appendChild(docLink);\n",
              "        }\n",
              "      </script>\n",
              "    </div>\n",
              "  </div>\n",
              "  "
            ]
          },
          "metadata": {},
          "execution_count": 107
        }
      ]
    },
    {
      "cell_type": "markdown",
      "source": [
        "**1. Load the training data, how many numerical features do you have? (if you are using Orange, manually set up CryoSleep, VIP, and Transported as Categorical)**"
      ],
      "metadata": {
        "id": "IXQiFH34vqdJ"
      }
    },
    {
      "cell_type": "code",
      "source": [
        "df.info()"
      ],
      "metadata": {
        "colab": {
          "base_uri": "https://localhost:8080/"
        },
        "id": "uIeGuYErt2CA",
        "outputId": "73df64c5-0b3b-478b-dc99-c981670c3955"
      },
      "execution_count": 108,
      "outputs": [
        {
          "output_type": "stream",
          "name": "stdout",
          "text": [
            "<class 'pandas.core.frame.DataFrame'>\n",
            "RangeIndex: 8693 entries, 0 to 8692\n",
            "Data columns (total 11 columns):\n",
            " #   Column        Non-Null Count  Dtype  \n",
            "---  ------        --------------  -----  \n",
            " 0   HomePlanet    8492 non-null   object \n",
            " 1   CryoSleep     8476 non-null   object \n",
            " 2   Destination   8511 non-null   object \n",
            " 3   Age           8514 non-null   float64\n",
            " 4   VIP           8490 non-null   object \n",
            " 5   RoomService   8512 non-null   float64\n",
            " 6   FoodCourt     8510 non-null   float64\n",
            " 7   ShoppingMall  8485 non-null   float64\n",
            " 8   Spa           8510 non-null   float64\n",
            " 9   VRDeck        8505 non-null   float64\n",
            " 10  Transported   8693 non-null   bool   \n",
            "dtypes: bool(1), float64(6), object(4)\n",
            "memory usage: 687.8+ KB\n"
          ]
        }
      ]
    },
    {
      "cell_type": "markdown",
      "source": [
        "**answer:** 6 numerical features"
      ],
      "metadata": {
        "id": "IL0TybbBv98c"
      }
    },
    {
      "cell_type": "markdown",
      "source": [
        "**2. How many observations do you have in a training set?**"
      ],
      "metadata": {
        "id": "_4TavzDWwQUH"
      }
    },
    {
      "cell_type": "code",
      "source": [
        "len(df)"
      ],
      "metadata": {
        "colab": {
          "base_uri": "https://localhost:8080/"
        },
        "id": "CHxjGL-VwO0o",
        "outputId": "c6e560e3-517c-4686-bd39-85a11f7c5444"
      },
      "execution_count": 109,
      "outputs": [
        {
          "output_type": "execute_result",
          "data": {
            "text/plain": [
              "8693"
            ]
          },
          "metadata": {},
          "execution_count": 109
        }
      ]
    },
    {
      "cell_type": "markdown",
      "source": [
        "**answer:** 8693"
      ],
      "metadata": {
        "id": "eVJd55LOwerg"
      }
    },
    {
      "cell_type": "markdown",
      "source": [
        "**3. Select Age groups with a prevalent number of Transported passengers (hint: plot histogram)**\n",
        "\n",
        "20 <= Age < 40\n",
        "\n",
        "Age >= 60\n",
        "\n",
        "Age < 20\n",
        "\n",
        "40 <= Age < 60"
      ],
      "metadata": {
        "id": "fZ-_tmeYwkbA"
      }
    },
    {
      "cell_type": "code",
      "source": [
        "plt.hist(df.Age[df.Transported==True], bins=100)\n",
        "plt.title('Распределение возрастов всех перевезенных пассажиров')\n",
        "plt.xlabel(\"Возраст\")\n",
        "plt.ylabel(\"Кол-во\")\n",
        "plt.show()"
      ],
      "metadata": {
        "colab": {
          "base_uri": "https://localhost:8080/",
          "height": 295
        },
        "id": "GUv5uPJXxVgi",
        "outputId": "1eaf5beb-aa18-4684-e3bf-25e906c8e795"
      },
      "execution_count": 110,
      "outputs": [
        {
          "output_type": "display_data",
          "data": {
            "text/plain": [
              "<Figure size 432x288 with 1 Axes>"
            ],
            "image/png": "[encoded data removed]"
          },
          "metadata": {
            "needs_background": "light"
          }
        }
      ]
    },
    {
      "cell_type": "code",
      "source": [
        "filter_age_20 = df.Age < 20\n",
        "filter_age_20_40 = (df.Age >= 20)&(df.Age < 40) \n",
        "filter_age_40_60 = (df.Age >= 40)&(df.Age < 60) \n",
        "filter_age_60 = df.Age >= 60\n",
        "print('Age < 20:',len(df.loc[filter_age_20][df.Transported==True]))\n",
        "print('20 <= Age < 40:',len(df.loc[filter_age_20_40][df.Transported==True]))\n",
        "print('40 <= Age < 60:',len(df.loc[filter_age_40_60][df.Transported==True]))\n",
        "print('Age >= 60:',len(df.loc[filter_age_60][df.Transported==True]))"
      ],
      "metadata": {
        "colab": {
          "base_uri": "https://localhost:8080/"
        },
        "id": "vdl5pKH7zft7",
        "outputId": "1a45f7d1-e13a-44af-8577-27680aafc1fd"
      },
      "execution_count": 111,
      "outputs": [
        {
          "output_type": "stream",
          "name": "stdout",
          "text": [
            "Age < 20: 1271\n",
            "20 <= Age < 40: 2092\n",
            "40 <= Age < 60: 806\n",
            "Age >= 60: 119\n"
          ]
        }
      ]
    },
    {
      "cell_type": "markdown",
      "source": [
        "**answer:** 20 <= Age < 40"
      ],
      "metadata": {
        "id": "YPVHWiZxAAXt"
      }
    },
    {
      "cell_type": "markdown",
      "source": [
        "**4. Which HomePlanet has the highest percentage of Transported passengers**"
      ],
      "metadata": {
        "id": "GjLRwiIC4m69"
      }
    },
    {
      "cell_type": "code",
      "source": [
        "df[df.Transported].groupby('HomePlanet').count().Transported / df.groupby('HomePlanet').count().Transported*100"
      ],
      "metadata": {
        "colab": {
          "base_uri": "https://localhost:8080/"
        },
        "id": "f7YDvrRk-DEY",
        "outputId": "1b39cfcf-faf4-4ff5-948e-9c2b27920c42"
      },
      "execution_count": 112,
      "outputs": [
        {
          "output_type": "execute_result",
          "data": {
            "text/plain": [
              "HomePlanet\n",
              "Earth     42.394611\n",
              "Europa    65.884561\n",
              "Mars      52.302445\n",
              "Name: Transported, dtype: float64"
            ]
          },
          "metadata": {},
          "execution_count": 112
        }
      ]
    },
    {
      "cell_type": "markdown",
      "source": [
        "**answer:** Europa"
      ],
      "metadata": {
        "id": "2npobWPMAFt8"
      }
    },
    {
      "cell_type": "markdown",
      "source": [
        "**5. Does CryoSleep increase the chances of being Transported?**"
      ],
      "metadata": {
        "id": "Ti9ksTBcAJYS"
      }
    },
    {
      "cell_type": "code",
      "source": [
        "print('Transported=True & CryoSleep=True:',len(df[(df.Transported)&(df.CryoSleep==True)]))\n",
        "#print('Transported=False & CryoSleep=True:',len(df[(df.Transported==False)&(df.CryoSleep==True)]))\n",
        "print('Transported=True & CryoSleep=False:',len(df[(df.Transported)&(df.CryoSleep==False)]))\n",
        "#print('Transported=False & CryoSleep=False:',len(df[(df.Transported==False)&(df.CryoSleep==False)]))\n",
        "print('CryoSleep=True:',len(df[(df.CryoSleep==True)]))\n",
        "print('CryoSleep=False:',len(df[(df.CryoSleep==False)]))"
      ],
      "metadata": {
        "colab": {
          "base_uri": "https://localhost:8080/"
        },
        "id": "TFug-x3h-04Y",
        "outputId": "0c0685cf-cc2c-46ba-8320-eb1b7a9dd9ee"
      },
      "execution_count": 113,
      "outputs": [
        {
          "output_type": "stream",
          "name": "stdout",
          "text": [
            "Transported=True & CryoSleep=True: 2483\n",
            "Transported=True & CryoSleep=False: 1789\n",
            "CryoSleep=True: 3037\n",
            "CryoSleep=False: 5439\n"
          ]
        }
      ]
    },
    {
      "cell_type": "code",
      "source": [
        "print('P(Transported=True|CryoSleep=True) =',len(df[(df.Transported)&(df.CryoSleep==True)])/len(df[(df.CryoSleep==True)]))\n",
        "print('P(Transported=True|CryoSleep=False) =',len(df[(df.Transported)&(df.CryoSleep==False)])/len(df[(df.CryoSleep==False)]))"
      ],
      "metadata": {
        "colab": {
          "base_uri": "https://localhost:8080/"
        },
        "id": "E1oPAJB5CEU9",
        "outputId": "d533878c-5652-45d7-822b-b752eea577ac"
      },
      "execution_count": 114,
      "outputs": [
        {
          "output_type": "stream",
          "name": "stdout",
          "text": [
            "P(Transported=True|CryoSleep=True) = 0.8175831412578202\n",
            "P(Transported=True|CryoSleep=False) = 0.3289207574921861\n"
          ]
        }
      ]
    },
    {
      "cell_type": "markdown",
      "source": [
        "**answer:** yes"
      ],
      "metadata": {
        "id": "lIMWDsRLHxkX"
      }
    },
    {
      "cell_type": "markdown",
      "source": [
        "**6. (If you are using Orange read KNN documentation) Read about one-hot encoding https://machinelearningmastery.com/why-one-hot-encode-data-in-machine-learning/ . What is one-hot-encoding?**"
      ],
      "metadata": {
        "id": "tT-L3bHDIb31"
      }
    },
    {
      "cell_type": "markdown",
      "source": [
        "**answer:** Replace feature with k binary features."
      ],
      "metadata": {
        "id": "2bArDr83Ib92"
      }
    },
    {
      "cell_type": "markdown",
      "source": [
        "**7.  Construct a simple pipeline: Impute missing values (for numerical features use 0, except for Age, for Age use mean imputation; for categorical features impute with the most frequent value), Standardize numerical features (zero mean and unit variance), Use KNN with 10 neighbors. Use 3-fold cross-validation. What is your average classification accuracy? (integer number 0-100)**"
      ],
      "metadata": {
        "id": "SQgwMwumIhnq"
      }
    },
    {
      "cell_type": "code",
      "source": [
        "df1 = df.copy()\n",
        "\n",
        "X=df1.drop('Transported', axis=1)\n",
        "y=df1.Transported\n",
        "\n",
        "X_train, X_test, y_train, y_test = train_test_split(X, y, test_size=0.33, random_state=45)"
      ],
      "metadata": {
        "id": "7Gw97wd7sJW5"
      },
      "execution_count": 115,
      "outputs": []
    },
    {
      "cell_type": "code",
      "source": [
        "X_train.isna().sum()"
      ],
      "metadata": {
        "colab": {
          "base_uri": "https://localhost:8080/"
        },
        "id": "xYmbg-m9TDYe",
        "outputId": "b0471966-92f2-4f19-d9a6-3d7113d4c8b9"
      },
      "execution_count": 116,
      "outputs": [
        {
          "output_type": "execute_result",
          "data": {
            "text/plain": [
              "HomePlanet      145\n",
              "CryoSleep       148\n",
              "Destination     121\n",
              "Age             113\n",
              "VIP             141\n",
              "RoomService     122\n",
              "FoodCourt       128\n",
              "ShoppingMall    140\n",
              "Spa             122\n",
              "VRDeck          126\n",
              "dtype: int64"
            ]
          },
          "metadata": {},
          "execution_count": 116
        }
      ]
    },
    {
      "cell_type": "code",
      "source": [
        "X_train['Age'] = X_train.Age.fillna(X_train.Age.mean())\n",
        "X_train['RoomService'] = X_train.RoomService.fillna(0)\n",
        "X_train['FoodCourt'] = X_train.FoodCourt.fillna(0)\n",
        "X_train['ShoppingMall'] = X_train.ShoppingMall.fillna(0)\n",
        "X_train['Spa'] = X_train.Spa.fillna(0)\n",
        "X_train['VRDeck'] = X_train.VRDeck.fillna(0)\n",
        "HomePlanet_top = X_train.HomePlanet.value_counts().idxmax()\n",
        "X_train['HomePlanet'] = X_train.HomePlanet.fillna(HomePlanet_top)\n",
        "CryoSleep_top = X_train.CryoSleep.value_counts().idxmax()\n",
        "X_train['CryoSleep'] = X_train.CryoSleep.fillna(CryoSleep_top)\n",
        "Destination_top = X_train.Destination.value_counts().idxmax()\n",
        "X_train['Destination'] = X_train.Destination.fillna(Destination_top)\n",
        "VIP_top = X_train.VIP.value_counts().idxmax()\n",
        "X_train['VIP'] = X_train.VIP.fillna(VIP_top)"
      ],
      "metadata": {
        "id": "1Xa1tyEsVnU9"
      },
      "execution_count": 117,
      "outputs": []
    },
    {
      "cell_type": "code",
      "source": [
        "X_train = pd.concat([X_train,pd.get_dummies(X_train['HomePlanet'],prefix='HomePlanet')], axis=1).drop('HomePlanet',axis=1)\n",
        "X_train = pd.concat([X_train,pd.get_dummies(X_train['Destination'],prefix='Destination')], axis=1).drop('Destination',axis=1)"
      ],
      "metadata": {
        "id": "_cyomVXQkFyU"
      },
      "execution_count": 118,
      "outputs": []
    },
    {
      "cell_type": "code",
      "source": [
        "numerical_columns = [c for c in X_train.columns if X_train[c].dtype.name == 'float64']\n",
        "arr_std = np.array(np.std(X_train[numerical_columns], axis=0))\n",
        "arr_mean = np.array(np.mean(X_train[numerical_columns], axis=0))\n",
        "\n",
        "for i in range(len(numerical_columns)):\n",
        "    X_train[numerical_columns[i]] = (X_train[numerical_columns[i]] - arr_mean[i])/arr_std[i]"
      ],
      "metadata": {
        "id": "9-951tjtnLLS"
      },
      "execution_count": 119,
      "outputs": []
    },
    {
      "cell_type": "code",
      "source": [
        "X_train"
      ],
      "metadata": {
        "colab": {
          "base_uri": "https://localhost:8080/",
          "height": 492
        },
        "id": "F109wFPcsJIm",
        "outputId": "266c5259-160d-4110-e5f9-51783a524958"
      },
      "execution_count": 120,
      "outputs": [
        {
          "output_type": "execute_result",
          "data": {
            "text/plain": [
              "      CryoSleep       Age    VIP  RoomService  FoodCourt  ShoppingMall  \\\n",
              "8123      False -0.549869  False     6.989504  -0.278701     -0.214441   \n",
              "6089       True  1.808392  False    -0.327001  -0.278701     -0.300316   \n",
              "328       False -0.341787  False    -0.327001  -0.278701      0.737194   \n",
              "8573       True -1.937082  False    -0.327001  -0.278701     -0.300316   \n",
              "1271      False -1.035393  False     1.885484  -0.277471     -0.079495   \n",
              "...         ...       ...    ...          ...        ...           ...   \n",
              "3704      False  0.282458  False     0.267353  -0.112721     -0.242482   \n",
              "163        True  1.877753  False    -0.327001  -0.278701     -0.300316   \n",
              "6012       True -1.382197  False    -0.327001  -0.278701     -0.300316   \n",
              "6558       True -0.341787  False    -0.327001  -0.278701     -0.300316   \n",
              "7115       True  2.085835  False    -0.327001  -0.278701     -0.300316   \n",
              "\n",
              "           Spa    VRDeck  HomePlanet_Earth  HomePlanet_Europa  \\\n",
              "8123 -0.275016 -0.264084                 0                  0   \n",
              "6089 -0.276871 -0.264084                 1                  0   \n",
              "328  -0.112670 -0.210362                 1                  0   \n",
              "8573 -0.276871 -0.264084                 1                  0   \n",
              "1271  0.149866 -0.197395                 1                  0   \n",
              "...        ...       ...               ...                ...   \n",
              "3704 -0.276871 -0.264084                 1                  0   \n",
              "163  -0.276871 -0.264084                 1                  0   \n",
              "6012 -0.276871 -0.264084                 1                  0   \n",
              "6558 -0.276871 -0.264084                 0                  1   \n",
              "7115 -0.276871 -0.264084                 0                  1   \n",
              "\n",
              "      HomePlanet_Mars  Destination_55 Cancri e  Destination_PSO J318.5-22  \\\n",
              "8123                1                        0                          0   \n",
              "6089                0                        0                          1   \n",
              "328                 0                        0                          0   \n",
              "8573                0                        0                          1   \n",
              "1271                0                        0                          0   \n",
              "...               ...                      ...                        ...   \n",
              "3704                0                        0                          1   \n",
              "163                 0                        0                          0   \n",
              "6012                0                        0                          0   \n",
              "6558                0                        1                          0   \n",
              "7115                0                        0                          0   \n",
              "\n",
              "      Destination_TRAPPIST-1e  \n",
              "8123                        1  \n",
              "6089                        0  \n",
              "328                         1  \n",
              "8573                        0  \n",
              "1271                        1  \n",
              "...                       ...  \n",
              "3704                        0  \n",
              "163                         1  \n",
              "6012                        1  \n",
              "6558                        0  \n",
              "7115                        1  \n",
              "\n",
              "[5824 rows x 14 columns]"
            ],
            "text/html": [
              "\n",
              "  <div id=\"df-1fdfaf75-3928-4ed1-af52-10e576d5f430\">\n",
              "    <div class=\"colab-df-container\">\n",
              "      <div>\n",
              "<style scoped>\n",
              "    .dataframe tbody tr th:only-of-type {\n",
              "        vertical-align: middle;\n",
              "    }\n",
              "\n",
              "    .dataframe tbody tr th {\n",
              "        vertical-align: top;\n",
              "    }\n",
              "\n",
              "    .dataframe thead th {\n",
              "        text-align: right;\n",
              "    }\n",
              "</style>\n",
              "<table border=\"1\" class=\"dataframe\">\n",
              "  <thead>\n",
              "    <tr style=\"text-align: right;\">\n",
              "      <th></th>\n",
              "      <th>CryoSleep</th>\n",
              "      <th>Age</th>\n",
              "      <th>VIP</th>\n",
              "      <th>RoomService</th>\n",
              "      <th>FoodCourt</th>\n",
              "      <th>ShoppingMall</th>\n",
              "      <th>Spa</th>\n",
              "      <th>VRDeck</th>\n",
              "      <th>HomePlanet_Earth</th>\n",
              "      <th>HomePlanet_Europa</th>\n",
              "      <th>HomePlanet_Mars</th>\n",
              "      <th>Destination_55 Cancri e</th>\n",
              "      <th>Destination_PSO J318.5-22</th>\n",
              "      <th>Destination_TRAPPIST-1e</th>\n",
              "    </tr>\n",
              "  </thead>\n",
              "  <tbody>\n",
              "    <tr>\n",
              "      <th>8123</th>\n",
              "      <td>False</td>\n",
              "      <td>-0.549869</td>\n",
              "      <td>False</td>\n",
              "      <td>6.989504</td>\n",
              "      <td>-0.278701</td>\n",
              "      <td>-0.214441</td>\n",
              "      <td>-0.275016</td>\n",
              "      <td>-0.264084</td>\n",
              "      <td>0</td>\n",
              "      <td>0</td>\n",
              "      <td>1</td>\n",
              "      <td>0</td>\n",
              "      <td>0</td>\n",
              "      <td>1</td>\n",
              "    </tr>\n",
              "    <tr>\n",
              "      <th>6089</th>\n",
              "      <td>True</td>\n",
              "      <td>1.808392</td>\n",
              "      <td>False</td>\n",
              "      <td>-0.327001</td>\n",
              "      <td>-0.278701</td>\n",
              "      <td>-0.300316</td>\n",
              "      <td>-0.276871</td>\n",
              "      <td>-0.264084</td>\n",
              "      <td>1</td>\n",
              "      <td>0</td>\n",
              "      <td>0</td>\n",
              "      <td>0</td>\n",
              "      <td>1</td>\n",
              "      <td>0</td>\n",
              "    </tr>\n",
              "    <tr>\n",
              "      <th>328</th>\n",
              "      <td>False</td>\n",
              "      <td>-0.341787</td>\n",
              "      <td>False</td>\n",
              "      <td>-0.327001</td>\n",
              "      <td>-0.278701</td>\n",
              "      <td>0.737194</td>\n",
              "      <td>-0.112670</td>\n",
              "      <td>-0.210362</td>\n",
              "      <td>1</td>\n",
              "      <td>0</td>\n",
              "      <td>0</td>\n",
              "      <td>0</td>\n",
              "      <td>0</td>\n",
              "      <td>1</td>\n",
              "    </tr>\n",
              "    <tr>\n",
              "      <th>8573</th>\n",
              "      <td>True</td>\n",
              "      <td>-1.937082</td>\n",
              "      <td>False</td>\n",
              "      <td>-0.327001</td>\n",
              "      <td>-0.278701</td>\n",
              "      <td>-0.300316</td>\n",
              "      <td>-0.276871</td>\n",
              "      <td>-0.264084</td>\n",
              "      <td>1</td>\n",
              "      <td>0</td>\n",
              "      <td>0</td>\n",
              "      <td>0</td>\n",
              "      <td>1</td>\n",
              "      <td>0</td>\n",
              "    </tr>\n",
              "    <tr>\n",
              "      <th>1271</th>\n",
              "      <td>False</td>\n",
              "      <td>-1.035393</td>\n",
              "      <td>False</td>\n",
              "      <td>1.885484</td>\n",
              "      <td>-0.277471</td>\n",
              "      <td>-0.079495</td>\n",
              "      <td>0.149866</td>\n",
              "      <td>-0.197395</td>\n",
              "      <td>1</td>\n",
              "      <td>0</td>\n",
              "      <td>0</td>\n",
              "      <td>0</td>\n",
              "      <td>0</td>\n",
              "      <td>1</td>\n",
              "    </tr>\n",
              "    <tr>\n",
              "      <th>...</th>\n",
              "      <td>...</td>\n",
              "      <td>...</td>\n",
              "      <td>...</td>\n",
              "      <td>...</td>\n",
              "      <td>...</td>\n",
              "      <td>...</td>\n",
              "      <td>...</td>\n",
              "      <td>...</td>\n",
              "      <td>...</td>\n",
              "      <td>...</td>\n",
              "      <td>...</td>\n",
              "      <td>...</td>\n",
              "      <td>...</td>\n",
              "      <td>...</td>\n",
              "    </tr>\n",
              "    <tr>\n",
              "      <th>3704</th>\n",
              "      <td>False</td>\n",
              "      <td>0.282458</td>\n",
              "      <td>False</td>\n",
              "      <td>0.267353</td>\n",
              "      <td>-0.112721</td>\n",
              "      <td>-0.242482</td>\n",
              "      <td>-0.276871</td>\n",
              "      <td>-0.264084</td>\n",
              "      <td>1</td>\n",
              "      <td>0</td>\n",
              "      <td>0</td>\n",
              "      <td>0</td>\n",
              "      <td>1</td>\n",
              "      <td>0</td>\n",
              "    </tr>\n",
              "    <tr>\n",
              "      <th>163</th>\n",
              "      <td>True</td>\n",
              "      <td>1.877753</td>\n",
              "      <td>False</td>\n",
              "      <td>-0.327001</td>\n",
              "      <td>-0.278701</td>\n",
              "      <td>-0.300316</td>\n",
              "      <td>-0.276871</td>\n",
              "      <td>-0.264084</td>\n",
              "      <td>1</td>\n",
              "      <td>0</td>\n",
              "      <td>0</td>\n",
              "      <td>0</td>\n",
              "      <td>0</td>\n",
              "      <td>1</td>\n",
              "    </tr>\n",
              "    <tr>\n",
              "      <th>6012</th>\n",
              "      <td>True</td>\n",
              "      <td>-1.382197</td>\n",
              "      <td>False</td>\n",
              "      <td>-0.327001</td>\n",
              "      <td>-0.278701</td>\n",
              "      <td>-0.300316</td>\n",
              "      <td>-0.276871</td>\n",
              "      <td>-0.264084</td>\n",
              "      <td>1</td>\n",
              "      <td>0</td>\n",
              "      <td>0</td>\n",
              "      <td>0</td>\n",
              "      <td>0</td>\n",
              "      <td>1</td>\n",
              "    </tr>\n",
              "    <tr>\n",
              "      <th>6558</th>\n",
              "      <td>True</td>\n",
              "      <td>-0.341787</td>\n",
              "      <td>False</td>\n",
              "      <td>-0.327001</td>\n",
              "      <td>-0.278701</td>\n",
              "      <td>-0.300316</td>\n",
              "      <td>-0.276871</td>\n",
              "      <td>-0.264084</td>\n",
              "      <td>0</td>\n",
              "      <td>1</td>\n",
              "      <td>0</td>\n",
              "      <td>1</td>\n",
              "      <td>0</td>\n",
              "      <td>0</td>\n",
              "    </tr>\n",
              "    <tr>\n",
              "      <th>7115</th>\n",
              "      <td>True</td>\n",
              "      <td>2.085835</td>\n",
              "      <td>False</td>\n",
              "      <td>-0.327001</td>\n",
              "      <td>-0.278701</td>\n",
              "      <td>-0.300316</td>\n",
              "      <td>-0.276871</td>\n",
              "      <td>-0.264084</td>\n",
              "      <td>0</td>\n",
              "      <td>1</td>\n",
              "      <td>0</td>\n",
              "      <td>0</td>\n",
              "      <td>0</td>\n",
              "      <td>1</td>\n",
              "    </tr>\n",
              "  </tbody>\n",
              "</table>\n",
              "<p>5824 rows × 14 columns</p>\n",
              "</div>\n",
              "      <button class=\"colab-df-convert\" onclick=\"convertToInteractive('df-1fdfaf75-3928-4ed1-af52-10e576d5f430')\"\n",
              "              title=\"Convert this dataframe to an interactive table.\"\n",
              "              style=\"display:none;\">\n",
              "        \n",
              "  <svg xmlns=\"http://www.w3.org/2000/svg\" height=\"24px\"viewBox=\"0 0 24 24\"\n",
              "       width=\"24px\">\n",
              "    <path d=\"M0 0h24v24H0V0z\" fill=\"none\"/>\n",
              "    <path d=\"M18.56 5.44l.94 2.06.94-2.06 2.06-.94-2.06-.94-.94-2.06-.94 2.06-2.06.94zm-11 1L8.5 8.5l.94-2.06 2.06-.94-2.06-.94L8.5 2.5l-.94 2.06-2.06.94zm10 10l.94 2.06.94-2.06 2.06-.94-2.06-.94-.94-2.06-.94 2.06-2.06.94z\"/><path d=\"M17.41 7.96l-1.37-1.37c-.4-.4-.92-.59-1.43-.59-.52 0-1.04.2-1.43.59L10.3 9.45l-7.72 7.72c-.78.78-.78 2.05 0 2.83L4 21.41c.39.39.9.59 1.41.59.51 0 1.02-.2 1.41-.59l7.78-7.78 2.81-2.81c.8-.78.8-2.07 0-2.86zM5.41 20L4 18.59l7.72-7.72 1.47 1.35L5.41 20z\"/>\n",
              "  </svg>\n",
              "      </button>\n",
              "      \n",
              "  <style>\n",
              "    .colab-df-container {\n",
              "      display:flex;\n",
              "      flex-wrap:wrap;\n",
              "      gap: 12px;\n",
              "    }\n",
              "\n",
              "    .colab-df-convert {\n",
              "      background-color: #E8F0FE;\n",
              "      border: none;\n",
              "      border-radius: 50%;\n",
              "      cursor: pointer;\n",
              "      display: none;\n",
              "      fill: #1967D2;\n",
              "      height: 32px;\n",
              "      padding: 0 0 0 0;\n",
              "      width: 32px;\n",
              "    }\n",
              "\n",
              "    .colab-df-convert:hover {\n",
              "      background-color: #E2EBFA;\n",
              "      box-shadow: 0px 1px 2px rgba(60, 64, 67, 0.3), 0px 1px 3px 1px rgba(60, 64, 67, 0.15);\n",
              "      fill: #174EA6;\n",
              "    }\n",
              "\n",
              "    [theme=dark] .colab-df-convert {\n",
              "      background-color: #3B4455;\n",
              "      fill: #D2E3FC;\n",
              "    }\n",
              "\n",
              "    [theme=dark] .colab-df-convert:hover {\n",
              "      background-color: #434B5C;\n",
              "      box-shadow: 0px 1px 3px 1px rgba(0, 0, 0, 0.15);\n",
              "      filter: drop-shadow(0px 1px 2px rgba(0, 0, 0, 0.3));\n",
              "      fill: #FFFFFF;\n",
              "    }\n",
              "  </style>\n",
              "\n",
              "      <script>\n",
              "        const buttonEl =\n",
              "          document.querySelector('#df-1fdfaf75-3928-4ed1-af52-10e576d5f430 button.colab-df-convert');\n",
              "        buttonEl.style.display =\n",
              "          google.colab.kernel.accessAllowed ? 'block' : 'none';\n",
              "\n",
              "        async function convertToInteractive(key) {\n",
              "          const element = document.querySelector('#df-1fdfaf75-3928-4ed1-af52-10e576d5f430');\n",
              "          const dataTable =\n",
              "            await google.colab.kernel.invokeFunction('convertToInteractive',\n",
              "                                                     [key], {});\n",
              "          if (!dataTable) return;\n",
              "\n",
              "          const docLinkHtml = 'Like what you see? Visit the ' +\n",
              "            '<a target=\"_blank\" href=https://colab.research.google.com/notebooks/data_table.ipynb>data table notebook</a>'\n",
              "            + ' to learn more about interactive tables.';\n",
              "          element.innerHTML = '';\n",
              "          dataTable['output_type'] = 'display_data';\n",
              "          await google.colab.output.renderOutput(dataTable, element);\n",
              "          const docLink = document.createElement('div');\n",
              "          docLink.innerHTML = docLinkHtml;\n",
              "          element.appendChild(docLink);\n",
              "        }\n",
              "      </script>\n",
              "    </div>\n",
              "  </div>\n",
              "  "
            ]
          },
          "metadata": {},
          "execution_count": 120
        }
      ]
    },
    {
      "cell_type": "code",
      "source": [
        "from sklearn.neighbors import KNeighborsClassifier\n",
        "from sklearn.model_selection import cross_validate\n",
        "\n",
        "knn = KNeighborsClassifier(n_neighbors=10)\n",
        "cv_results = cross_validate(knn, X_train, y_train, cv=3, scoring='accuracy', return_train_score=True)"
      ],
      "metadata": {
        "id": "QDRFJ1bpyjFH"
      },
      "execution_count": 121,
      "outputs": []
    },
    {
      "cell_type": "code",
      "source": [
        "int(np.round(cv_results['train_score'].mean()*100,0))"
      ],
      "metadata": {
        "colab": {
          "base_uri": "https://localhost:8080/"
        },
        "id": "gOWHuC3kyjOQ",
        "outputId": "3548ccbd-d225-4bfd-9556-8b8a5ff92dcb"
      },
      "execution_count": 122,
      "outputs": [
        {
          "output_type": "execute_result",
          "data": {
            "text/plain": [
              "81"
            ]
          },
          "metadata": {},
          "execution_count": 122
        }
      ]
    },
    {
      "cell_type": "code",
      "source": [
        "int(np.round(cv_results['test_score'].mean()*100,0))"
      ],
      "metadata": {
        "colab": {
          "base_uri": "https://localhost:8080/"
        },
        "id": "CI7g0hv4yjUG",
        "outputId": "79e90aba-b12e-4b4f-8bbf-957c3828c04d"
      },
      "execution_count": 123,
      "outputs": [
        {
          "output_type": "execute_result",
          "data": {
            "text/plain": [
              "77"
            ]
          },
          "metadata": {},
          "execution_count": 123
        }
      ]
    },
    {
      "cell_type": "code",
      "source": [
        "print('answer:',int(np.round(cv_results['test_score'].mean()*100,0)))"
      ],
      "metadata": {
        "colab": {
          "base_uri": "https://localhost:8080/"
        },
        "id": "K5bRtqkxhrF2",
        "outputId": "9247dcb5-8907-4c11-ad9d-e6da606a637a"
      },
      "execution_count": 124,
      "outputs": [
        {
          "output_type": "stream",
          "name": "stdout",
          "text": [
            "answer: 77\n"
          ]
        }
      ]
    },
    {
      "cell_type": "markdown",
      "source": [
        "**8. Build a Confusion Matrix of your prediction on test folds. What are your specificity and sensitivity? (two integers 0-100, divided by a comma)** "
      ],
      "metadata": {
        "id": "9fQS9BPvI9vw"
      }
    },
    {
      "cell_type": "code",
      "source": [
        "from sklearn.metrics import confusion_matrix\n",
        "from sklearn.metrics import accuracy_score"
      ],
      "metadata": {
        "id": "9nOq3CJz5eM3"
      },
      "execution_count": 125,
      "outputs": []
    },
    {
      "cell_type": "code",
      "source": [
        "X_test['Age'] = X_test.Age.fillna(X_test.Age.mean())\n",
        "X_test['RoomService'] = X_test.RoomService.fillna(0)\n",
        "X_test['FoodCourt'] = X_test.FoodCourt.fillna(0)\n",
        "X_test['ShoppingMall'] = X_test.ShoppingMall.fillna(0)\n",
        "X_test['Spa'] = X_test.Spa.fillna(0)\n",
        "X_test['VRDeck'] = X_test.VRDeck.fillna(0)\n",
        "X_test['HomePlanet'] = X_test.HomePlanet.fillna(HomePlanet_top)\n",
        "X_test['CryoSleep'] = X_test.CryoSleep.fillna(CryoSleep_top)\n",
        "X_test['Destination'] = X_test.Destination.fillna(Destination_top)\n",
        "X_test['VIP'] = X_test.VIP.fillna(VIP_top)"
      ],
      "metadata": {
        "id": "mgXlo6w9Si7j"
      },
      "execution_count": 126,
      "outputs": []
    },
    {
      "cell_type": "code",
      "source": [
        "X_test = pd.concat([X_test,pd.get_dummies(X_test['HomePlanet'],prefix='HomePlanet')], axis=1).drop('HomePlanet',axis=1)\n",
        "X_test = pd.concat([X_test,pd.get_dummies(X_test['Destination'],prefix='Destination')], axis=1).drop('Destination',axis=1)"
      ],
      "metadata": {
        "id": "5SaxFL8jTEHG"
      },
      "execution_count": 127,
      "outputs": []
    },
    {
      "cell_type": "code",
      "source": [
        "for i in range(len(numerical_columns)):\n",
        "    X_test[numerical_columns[i]] = (X_test[numerical_columns[i]] - arr_mean[i])/arr_std[i]"
      ],
      "metadata": {
        "id": "yHpAoQ7NSjCh"
      },
      "execution_count": 128,
      "outputs": []
    },
    {
      "cell_type": "code",
      "source": [
        "knn.fit(X_train, y_train)\n",
        "y_test_predict = knn.predict(X_test)"
      ],
      "metadata": {
        "id": "N1PBsEVhcUaJ"
      },
      "execution_count": 129,
      "outputs": []
    },
    {
      "cell_type": "code",
      "source": [
        "accuracy_score(y_test, y_test_predict)"
      ],
      "metadata": {
        "colab": {
          "base_uri": "https://localhost:8080/"
        },
        "id": "hBESWL74cUgU",
        "outputId": "3c537012-621b-45d2-b8b1-e5460b758456"
      },
      "execution_count": 130,
      "outputs": [
        {
          "output_type": "execute_result",
          "data": {
            "text/plain": [
              "0.7786685256186825"
            ]
          },
          "metadata": {},
          "execution_count": 130
        }
      ]
    },
    {
      "cell_type": "code",
      "source": [
        "matr = confusion_matrix(y_test, y_test_predict)\n",
        "matr"
      ],
      "metadata": {
        "colab": {
          "base_uri": "https://localhost:8080/"
        },
        "id": "E2VfVEQq8Q3g",
        "outputId": "45423da4-7d0d-40cd-d26c-21c377e4d334"
      },
      "execution_count": 131,
      "outputs": [
        {
          "output_type": "execute_result",
          "data": {
            "text/plain": [
              "array([[1163,  292],\n",
              "       [ 343, 1071]])"
            ]
          },
          "metadata": {},
          "execution_count": 131
        }
      ]
    },
    {
      "cell_type": "code",
      "source": [
        "# confusion_matrix(true, pred)\n",
        "# TN 0 0    FP 0 1\n",
        "# FN 1 0    TP 1 1"
      ],
      "metadata": {
        "id": "I2n_XaXHjZ9c"
      },
      "execution_count": 132,
      "outputs": []
    },
    {
      "cell_type": "code",
      "source": [
        "# specificity = TN / (TN + FP)\n",
        "specificity = matr[0][0] / sum(matr[0])\n",
        "# sensitivity = TP / (TP + FN)\n",
        "sensitivity = matr[1][1] / sum(matr[1])\n",
        "print('specificity', specificity)\n",
        "print('sensitivity', sensitivity)"
      ],
      "metadata": {
        "id": "cTHOKkt6I-SY",
        "colab": {
          "base_uri": "https://localhost:8080/"
        },
        "outputId": "f87ebd88-4104-4a73-818f-ba20a283bc63"
      },
      "execution_count": 133,
      "outputs": [
        {
          "output_type": "stream",
          "name": "stdout",
          "text": [
            "specificity 0.7993127147766323\n",
            "sensitivity 0.7574257425742574\n"
          ]
        }
      ]
    },
    {
      "cell_type": "code",
      "source": [
        "print('answer',int(np.round(specificity*100,0)),',',int(np.round(sensitivity*100,0)))"
      ],
      "metadata": {
        "colab": {
          "base_uri": "https://localhost:8080/"
        },
        "id": "ESY4cS1CrSvj",
        "outputId": "b751f09a-2082-427e-8aa3-a718c5072f9b"
      },
      "execution_count": 135,
      "outputs": [
        {
          "output_type": "stream",
          "name": "stdout",
          "text": [
            "answer 80 , 76\n"
          ]
        }
      ]
    },
    {
      "cell_type": "markdown",
      "source": [
        "**9. Try different values of k for KNN: 3, 5, 10, 15, 30, 50, which k yields the best result in terms of classification accuracy on 3-fold cross-validation?**"
      ],
      "metadata": {
        "id": "h8OJo6gvI-eI"
      }
    },
    {
      "cell_type": "code",
      "source": [
        "from sklearn.model_selection import GridSearchCV\n",
        "n_neighbors_array = [3, 5, 10, 15, 30, 50]\n",
        "knn = KNeighborsClassifier()\n",
        "grid = GridSearchCV(knn, param_grid={'n_neighbors': n_neighbors_array})\n",
        "grid.fit(X_train, y_train)\n",
        "print('best parameter:', grid.best_params_)\n",
        "print('best score:', grid.best_score_)"
      ],
      "metadata": {
        "colab": {
          "base_uri": "https://localhost:8080/"
        },
        "id": "8H5mawXd4qv4",
        "outputId": "79e6e005-b157-4424-935a-609e210b71e3"
      },
      "execution_count": 99,
      "outputs": [
        {
          "output_type": "stream",
          "name": "stdout",
          "text": [
            "best parameter: {'n_neighbors': 50}\n",
            "best score: 0.777474153061074\n"
          ]
        }
      ]
    },
    {
      "cell_type": "code",
      "source": [
        "best_rez_test_score = []\n",
        "n_neighbors_array = [3, 5, 10, 15, 30, 50]\n",
        "for i in n_neighbors_array:\n",
        "    knn = KNeighborsClassifier(n_neighbors=i)\n",
        "    cv_results = cross_validate(knn, X_train, y_train, cv=3, return_train_score=True)\n",
        "    best_rez_test_score.append(cv_results['test_score'].mean())\n",
        "best_neighbor = n_neighbors_array[best_rez_test_score.index(np.max(best_rez_test_score))]\n",
        "print('best parameter:', best_neighbor, '\\nbest score:', np.max(best_rez_test_score))"
      ],
      "metadata": {
        "colab": {
          "base_uri": "https://localhost:8080/"
        },
        "id": "5yxfaoSc4q4N",
        "outputId": "0c5c542b-e228-4916-fa55-fb2b72b89e9e"
      },
      "execution_count": 100,
      "outputs": [
        {
          "output_type": "stream",
          "name": "stdout",
          "text": [
            "best parameter: 50 \n",
            "best score: 0.7791894000371057\n"
          ]
        }
      ]
    },
    {
      "cell_type": "markdown",
      "source": [
        "**10. If you are minimizing the number of False Positives, which k should you use?**"
      ],
      "metadata": {
        "id": "nC4hv0MrJKJC"
      }
    },
    {
      "cell_type": "code",
      "source": [
        "# confusion_matrix(true, pred)\n",
        "# TN 0 0    FP 0 1\n",
        "# FN 1 0    TP 1 1"
      ],
      "metadata": {
        "id": "X25z28fMYtdS"
      },
      "execution_count": 35,
      "outputs": []
    },
    {
      "cell_type": "code",
      "source": [
        "best_rez_test = []\n",
        "n_neighbors_array = [3, 5, 10, 15, 30, 50]\n",
        "for i in n_neighbors_array:\n",
        "    knn = KNeighborsClassifier(n_neighbors=i)\n",
        "    knn.fit(X_train, y_train)\n",
        "    y_test_predict = knn.predict(X_test)\n",
        "    best_rez_test.append(confusion_matrix(y_test, y_test_predict)[0][1])\n",
        "print('best neighbors:',n_neighbors_array[best_rez_test.index(np.min(best_rez_test))],'\\nmin FP:',np.min(best_rez_test))"
      ],
      "metadata": {
        "colab": {
          "base_uri": "https://localhost:8080/"
        },
        "id": "8z1IZll5lFxu",
        "outputId": "441459e7-de91-40e7-8c5e-e605cc4725e0"
      },
      "execution_count": 36,
      "outputs": [
        {
          "output_type": "stream",
          "name": "stdout",
          "text": [
            "best neighbors: 10 \n",
            "min FP: 292\n"
          ]
        }
      ]
    },
    {
      "cell_type": "markdown",
      "source": [
        "**11. For the best model in terms of classification accuracy load test data, make predictions and submit them on kaggle, does the performance of your model differ on cross-validation and on the test set, which is better?**"
      ],
      "metadata": {
        "id": "kc-VrzymJKcE"
      }
    },
    {
      "cell_type": "code",
      "source": [
        "df1 = df.copy()\n",
        "\n",
        "X_train=df1.drop('Transported', axis=1)\n",
        "y_train=df1.Transported"
      ],
      "metadata": {
        "id": "9Y3smwidZAj5"
      },
      "execution_count": 37,
      "outputs": []
    },
    {
      "cell_type": "code",
      "source": [
        "#repeat algorithm\n",
        "X_train['Age'] = X_train.Age.fillna(X_train.Age.mean())\n",
        "X_train['RoomService'] = X_train.RoomService.fillna(0)\n",
        "X_train['FoodCourt'] = X_train.FoodCourt.fillna(0)\n",
        "X_train['ShoppingMall'] = X_train.ShoppingMall.fillna(0)\n",
        "X_train['Spa'] = X_train.Spa.fillna(0)\n",
        "X_train['VRDeck'] = X_train.VRDeck.fillna(0)\n",
        "HomePlanet_top = X_train.HomePlanet.value_counts().idxmax()\n",
        "X_train['HomePlanet'] = X_train.HomePlanet.fillna(HomePlanet_top)\n",
        "CryoSleep_top = X_train.CryoSleep.value_counts().idxmax()\n",
        "X_train['CryoSleep'] = X_train.CryoSleep.fillna(CryoSleep_top)\n",
        "Destination_top = X_train.Destination.value_counts().idxmax()\n",
        "X_train['Destination'] = X_train.Destination.fillna(Destination_top)\n",
        "VIP_top = X_train.VIP.value_counts().idxmax()\n",
        "X_train['VIP'] = X_train.VIP.fillna(VIP_top)\n",
        "\n",
        "X_train = pd.concat([X_train,pd.get_dummies(X_train['HomePlanet'],prefix='HomePlanet')], axis=1).drop('HomePlanet',axis=1)\n",
        "X_train = pd.concat([X_train,pd.get_dummies(X_train['Destination'],prefix='Destination')], axis=1).drop('Destination',axis=1)\n",
        "\n",
        "numerical_columns = [c for c in X_train.columns if X_train[c].dtype.name == 'float64']\n",
        "arr_std = np.array(np.std(X_train[numerical_columns], axis=0))\n",
        "arr_mean = np.array(np.mean(X_train[numerical_columns], axis=0))\n",
        "\n",
        "for i in range(len(numerical_columns)):\n",
        "    X_train[numerical_columns[i]] = (X_train[numerical_columns[i]] - arr_mean[i])/arr_std[i]"
      ],
      "metadata": {
        "id": "8FZ3PCNpZUDe"
      },
      "execution_count": 38,
      "outputs": []
    },
    {
      "cell_type": "code",
      "source": [
        "knn_best = KNeighborsClassifier(n_neighbors=best_neighbor)\n",
        "knn_best.fit(X_train, y_train)"
      ],
      "metadata": {
        "colab": {
          "base_uri": "https://localhost:8080/"
        },
        "id": "TgrynmMgy_Un",
        "outputId": "ef3f5ac0-3c17-4f44-8d8f-c048bd2019b7"
      },
      "execution_count": 39,
      "outputs": [
        {
          "output_type": "execute_result",
          "data": {
            "text/plain": [
              "KNeighborsClassifier(n_neighbors=50)"
            ]
          },
          "metadata": {},
          "execution_count": 39
        }
      ]
    },
    {
      "cell_type": "code",
      "source": [
        "df = pd.read_csv(\"test.csv\")\n",
        "df_id = df['PassengerId']\n",
        "X_test = df.drop(columns = ['PassengerId','Cabin','Name'], axis = 1)"
      ],
      "metadata": {
        "id": "h4v1zX7Vzeaa"
      },
      "execution_count": 40,
      "outputs": []
    },
    {
      "cell_type": "code",
      "source": [
        "X_test['Age'] = X_test.Age.fillna(X_test.Age.mean())\n",
        "X_test['RoomService'] = X_test.RoomService.fillna(0)\n",
        "X_test['FoodCourt'] = X_test.FoodCourt.fillna(0)\n",
        "X_test['ShoppingMall'] = X_test.ShoppingMall.fillna(0)\n",
        "X_test['Spa'] = X_test.Spa.fillna(0)\n",
        "X_test['VRDeck'] = X_test.VRDeck.fillna(0)\n",
        "X_test['HomePlanet'] = X_test.HomePlanet.fillna(HomePlanet_top)\n",
        "X_test['CryoSleep'] = X_test.CryoSleep.fillna(CryoSleep_top)\n",
        "X_test['Destination'] = X_test.Destination.fillna(Destination_top)\n",
        "X_test['VIP'] = X_test.VIP.fillna(VIP_top)\n",
        "\n",
        "X_test = pd.concat([X_test,pd.get_dummies(X_test['HomePlanet'],prefix='HomePlanet')], axis=1).drop('HomePlanet',axis=1)\n",
        "X_test = pd.concat([X_test,pd.get_dummies(X_test['Destination'],prefix='Destination')], axis=1).drop('Destination',axis=1)\n",
        "\n",
        "for i in range(len(numerical_columns)):\n",
        "    X_test[numerical_columns[i]] = (X_test[numerical_columns[i]] - arr_mean[i])/arr_std[i]"
      ],
      "metadata": {
        "id": "6nWUtulxZUNG"
      },
      "execution_count": 41,
      "outputs": []
    },
    {
      "cell_type": "code",
      "source": [
        "y_rez_predict = knn_best.predict(X_test)"
      ],
      "metadata": {
        "id": "SXP7T2uda9wK"
      },
      "execution_count": 42,
      "outputs": []
    },
    {
      "cell_type": "code",
      "source": [
        "df_rez = pd.DataFrame({'PassengerId':np.array(df_id), 'Transported': y_rez_predict})"
      ],
      "metadata": {
        "id": "x8Oq1SMOzeaf"
      },
      "execution_count": 43,
      "outputs": []
    },
    {
      "cell_type": "code",
      "source": [
        "df_rez.to_csv('df_rez1', index=False)"
      ],
      "metadata": {
        "id": "oXCWxOHHzeag"
      },
      "execution_count": 44,
      "outputs": []
    },
    {
      "cell_type": "code",
      "source": [
        "print('best parameter:', best_neighbor, '\\nbest score:', np.max(best_rez_test_score))"
      ],
      "metadata": {
        "colab": {
          "base_uri": "https://localhost:8080/"
        },
        "id": "TZQem6hC0Jjy",
        "outputId": "db341dcd-f122-4c08-d1a5-b8dd07cbc384"
      },
      "execution_count": 45,
      "outputs": [
        {
          "output_type": "stream",
          "name": "stdout",
          "text": [
            "best parameter: 50 \n",
            "best score: 0.7791894000371057\n"
          ]
        }
      ]
    },
    {
      "cell_type": "markdown",
      "source": [
        "![Снимок экрана 2022-04-29 в 20.46.47.png](data:image/png;base64,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)"
      ],
      "metadata": {
        "id": "DLQGVkM0bv3E"
      }
    },
    {
      "cell_type": "code",
      "source": [
        "rez_kaggle = 0.77905"
      ],
      "metadata": {
        "id": "yiJC2SgEnnnN"
      },
      "execution_count": 136,
      "outputs": []
    },
    {
      "cell_type": "code",
      "source": [
        ""
      ],
      "metadata": {
        "id": "5C1I7xCJ0P-3"
      },
      "execution_count": null,
      "outputs": []
    }
  ]
}